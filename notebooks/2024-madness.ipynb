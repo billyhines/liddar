{
 "cells": [
  {
   "cell_type": "code",
   "execution_count": 1,
   "id": "df70c971",
   "metadata": {
    "_cell_guid": "b1076dfc-b9ad-4769-8c92-a6c4dae69d19",
    "_uuid": "8f2839f25d086af736a60e9eeb907d3b93b6e0e5",
    "execution": {
     "iopub.execute_input": "2024-03-21T12:04:49.270588Z",
     "iopub.status.busy": "2024-03-21T12:04:49.269719Z",
     "iopub.status.idle": "2024-03-21T12:04:51.976986Z",
     "shell.execute_reply": "2024-03-21T12:04:51.976158Z"
    },
    "papermill": {
     "duration": 2.734003,
     "end_time": "2024-03-21T12:04:51.979628",
     "exception": false,
     "start_time": "2024-03-21T12:04:49.245625",
     "status": "completed"
    },
    "tags": []
   },
   "outputs": [],
   "source": [
    "from itertools import combinations\n",
    "import matplotlib.pyplot as plt\n",
    "import numpy as np\n",
    "import pandas as pd\n",
    "from scipy.interpolate import UnivariateSpline\n",
    "from sklearn.metrics import log_loss\n",
    "from sklearn.model_selection import KFold\n",
    "from tqdm import tqdm\n",
    "import xgboost as xgb"
   ]
  },
  {
   "cell_type": "markdown",
   "id": "b32d2700",
   "metadata": {
    "papermill": {
     "duration": 0.020699,
     "end_time": "2024-03-21T12:04:52.021962",
     "exception": false,
     "start_time": "2024-03-21T12:04:52.001263",
     "status": "completed"
    },
    "tags": []
   },
   "source": [
    "# Data Prep"
   ]
  },
  {
   "cell_type": "code",
   "execution_count": 2,
   "id": "3cb63240",
   "metadata": {
    "execution": {
     "iopub.execute_input": "2024-03-21T12:04:52.067698Z",
     "iopub.status.busy": "2024-03-21T12:04:52.066844Z",
     "iopub.status.idle": "2024-03-21T12:04:52.071601Z",
     "shell.execute_reply": "2024-03-21T12:04:52.070820Z"
    },
    "papermill": {
     "duration": 0.030398,
     "end_time": "2024-03-21T12:04:52.073789",
     "exception": false,
     "start_time": "2024-03-21T12:04:52.043391",
     "status": "completed"
    },
    "tags": []
   },
   "outputs": [],
   "source": [
    "gender = 'M'"
   ]
  },
  {
   "cell_type": "code",
   "execution_count": 3,
   "id": "0c432ceb",
   "metadata": {
    "execution": {
     "iopub.execute_input": "2024-03-21T12:04:52.119178Z",
     "iopub.status.busy": "2024-03-21T12:04:52.118416Z",
     "iopub.status.idle": "2024-03-21T12:04:52.740040Z",
     "shell.execute_reply": "2024-03-21T12:04:52.738901Z"
    },
    "papermill": {
     "duration": 0.647523,
     "end_time": "2024-03-21T12:04:52.742510",
     "exception": false,
     "start_time": "2024-03-21T12:04:52.094987",
     "status": "completed"
    },
    "tags": []
   },
   "outputs": [],
   "source": [
    "season = pd.read_csv(f'/kaggle/input/march-machine-learning-mania-2024/{gender}RegularSeasonDetailedResults.csv')\n",
    "tournament = pd.read_csv(f'/kaggle/input/march-machine-learning-mania-2024/{gender}NCAATourneyDetailedResults.csv')\n",
    "\n",
    "all_results = pd.concat([season, tournament]).reset_index(drop=True)"
   ]
  },
  {
   "cell_type": "code",
   "execution_count": 4,
   "id": "13a83e0f",
   "metadata": {
    "execution": {
     "iopub.execute_input": "2024-03-21T12:04:52.787257Z",
     "iopub.status.busy": "2024-03-21T12:04:52.786582Z",
     "iopub.status.idle": "2024-03-21T12:04:52.797696Z",
     "shell.execute_reply": "2024-03-21T12:04:52.796540Z"
    },
    "papermill": {
     "duration": 0.036519,
     "end_time": "2024-03-21T12:04:52.800320",
     "exception": false,
     "start_time": "2024-03-21T12:04:52.763801",
     "status": "completed"
    },
    "tags": []
   },
   "outputs": [],
   "source": [
    "def prepare_boxscore_data(df):\n",
    "    dfswap = df[['Season', 'DayNum', 'LTeamID', 'LScore', 'WTeamID', 'WScore', 'WLoc', 'NumOT', \n",
    "    'LFGM', 'LFGA', 'LFGM3', 'LFGA3', 'LFTM', 'LFTA', 'LOR', 'LDR', 'LAst', 'LTO', 'LStl', 'LBlk', 'LPF', \n",
    "    'WFGM', 'WFGA', 'WFGM3', 'WFGA3', 'WFTM', 'WFTA', 'WOR', 'WDR', 'WAst', 'WTO', 'WStl', 'WBlk', 'WPF']]\n",
    "\n",
    "    dfswap.loc[df['WLoc'] == 'H', 'WLoc'] = 'A'\n",
    "    dfswap.loc[df['WLoc'] == 'A', 'WLoc'] = 'H'\n",
    "    df.columns.values[6] = 'location'\n",
    "    dfswap.columns.values[6] = 'location'    \n",
    "      \n",
    "    df.columns = [x.replace('W','T1_').replace('L','T2_') for x in list(df.columns)]\n",
    "    dfswap.columns = [x.replace('L','T1_').replace('W','T2_') for x in list(dfswap.columns)]\n",
    "\n",
    "    output = pd.concat([df, dfswap]).reset_index(drop=True)\n",
    "    output.loc[output.location=='N','location'] = '0'\n",
    "    output.loc[output.location=='H','location'] = '1'\n",
    "    output.loc[output.location=='A','location'] = '-1'\n",
    "    output.location = output.location.astype(int)\n",
    "    \n",
    "    output['PointDiff'] = output['T1_Score'] - output['T2_Score']\n",
    "    \n",
    "    return output"
   ]
  },
  {
   "cell_type": "code",
   "execution_count": 5,
   "id": "aeb25d76",
   "metadata": {
    "execution": {
     "iopub.execute_input": "2024-03-21T12:04:52.844615Z",
     "iopub.status.busy": "2024-03-21T12:04:52.844202Z",
     "iopub.status.idle": "2024-03-21T12:04:52.863685Z",
     "shell.execute_reply": "2024-03-21T12:04:52.862612Z"
    },
    "papermill": {
     "duration": 0.044711,
     "end_time": "2024-03-21T12:04:52.866234",
     "exception": false,
     "start_time": "2024-03-21T12:04:52.821523",
     "status": "completed"
    },
    "tags": []
   },
   "outputs": [],
   "source": [
    "def create_training_data(regular_data,\n",
    "                         seasons,\n",
    "                         start_DayNum,\n",
    "                         include_team_qual=False):\n",
    "    \n",
    "    # Basic group by features\n",
    "    boxscore_cols = ['T1_FGM', 'T1_FGA', 'T1_FGM3', 'T1_FGA3', 'T1_OR', 'T1_Ast', 'T1_TO', 'T1_Stl', 'T1_PF', \n",
    "                     'T2_FGM', 'T2_FGA', 'T2_FGM3', 'T2_FGA3', 'T2_OR', 'T2_Ast', 'T2_TO', 'T2_Stl', 'T2_Blk',  \n",
    "                     'PointDiff']\n",
    "    funcs = ['mean']\n",
    "\n",
    "\n",
    "    training_data_sets = []\n",
    "    \n",
    "    # Loop over each season\n",
    "    for season in seasons:\n",
    "        print(f'creating training data from {str(season)}')\n",
    "        gameDayNums = regular_data[(regular_data['Season'] == season)]['DayNum'].unique()\n",
    "        gameDayNums = gameDayNums[gameDayNums >= start_DayNum]\n",
    "        \n",
    "        # Loop over each game day\n",
    "        for gameDayNum in gameDayNums:\n",
    "            game_data = regular_data[(regular_data['Season'] == season) & (regular_data['DayNum'] == gameDayNum)].copy()\n",
    "            stats_data = regular_data[(regular_data['Season'] == season) & (regular_data['DayNum'] < gameDayNum)].copy()\n",
    "\n",
    "            # Create season level means\n",
    "            season_statistics = stats_data.groupby([\"Season\", 'T1_TeamID'])[boxscore_cols].agg(funcs).reset_index()\n",
    "            season_statistics.columns = [''.join(col).strip() for col in season_statistics.columns.values]\n",
    "\n",
    "            season_statistics_T1 = season_statistics.copy()\n",
    "            season_statistics_T2 = season_statistics.copy()\n",
    "\n",
    "            season_statistics_T1.columns = [\"T1_\" + x.replace(\"T1_\",\"\").replace(\"T2_\",\"opponent_\") for x in list(season_statistics_T1.columns)]\n",
    "            season_statistics_T2.columns = [\"T2_\" + x.replace(\"T1_\",\"\").replace(\"T2_\",\"opponent_\") for x in list(season_statistics_T2.columns)]\n",
    "            season_statistics_T1.columns.values[0] = \"Season\"\n",
    "            season_statistics_T2.columns.values[0] = \"Season\"\n",
    "\n",
    "            # Collect win ratios for past 14 days\n",
    "\n",
    "            last14days_stats_T1 = stats_data[stats_data['DayNum'] >= gameDayNum - 14].copy().reset_index(drop=True)\n",
    "            last14days_stats_T1['win'] = np.where(last14days_stats_T1['PointDiff']>0,1,0)\n",
    "            last14days_stats_T1 = last14days_stats_T1.groupby(['Season','T1_TeamID'])['win'].mean().reset_index(name='T1_win_ratio_14d')\n",
    "\n",
    "            last14days_stats_T2 = stats_data[stats_data['DayNum'] >= gameDayNum - 14].copy().reset_index(drop=True)\n",
    "            last14days_stats_T2['win'] = np.where(last14days_stats_T2['PointDiff']<0,1,0)\n",
    "            last14days_stats_T2 = last14days_stats_T2.groupby(['Season','T2_TeamID'])['win'].mean().reset_index(name='T2_win_ratio_14d')\n",
    "\n",
    "            # Skip quality for now\n",
    "\n",
    "            # Merge together\n",
    "\n",
    "            game_data = game_data[['Season', 'DayNum', 'location', 'T1_TeamID', 'T1_Score', 'T2_TeamID' ,'T2_Score']]\n",
    "\n",
    "            game_data = pd.merge(game_data, season_statistics_T1, on = ['Season', 'T1_TeamID'], how = 'left')\n",
    "            game_data = pd.merge(game_data, season_statistics_T2, on = ['Season', 'T2_TeamID'], how = 'left')\n",
    "\n",
    "            game_data = pd.merge(game_data, last14days_stats_T1, on = ['Season', 'T1_TeamID'], how = 'left')\n",
    "            game_data = pd.merge(game_data, last14days_stats_T2, on = ['Season', 'T2_TeamID'], how = 'left')\n",
    "\n",
    "            training_data_sets.append(game_data)\n",
    "    \n",
    "    return pd.concat(training_data_sets).reset_index(drop=True)"
   ]
  },
  {
   "cell_type": "code",
   "execution_count": 6,
   "id": "feb6ea6a",
   "metadata": {
    "execution": {
     "iopub.execute_input": "2024-03-21T12:04:52.910757Z",
     "iopub.status.busy": "2024-03-21T12:04:52.909947Z",
     "iopub.status.idle": "2024-03-21T12:04:53.273153Z",
     "shell.execute_reply": "2024-03-21T12:04:53.272072Z"
    },
    "papermill": {
     "duration": 0.388554,
     "end_time": "2024-03-21T12:04:53.275912",
     "exception": false,
     "start_time": "2024-03-21T12:04:52.887358",
     "status": "completed"
    },
    "tags": []
   },
   "outputs": [],
   "source": [
    "prepped_box_scores = prepare_boxscore_data(all_results)"
   ]
  },
  {
   "cell_type": "code",
   "execution_count": 7,
   "id": "1b8404ec",
   "metadata": {
    "execution": {
     "iopub.execute_input": "2024-03-21T12:04:53.322789Z",
     "iopub.status.busy": "2024-03-21T12:04:53.322393Z",
     "iopub.status.idle": "2024-03-21T12:05:57.913751Z",
     "shell.execute_reply": "2024-03-21T12:05:57.912713Z"
    },
    "papermill": {
     "duration": 64.617034,
     "end_time": "2024-03-21T12:05:57.916445",
     "exception": false,
     "start_time": "2024-03-21T12:04:53.299411",
     "status": "completed"
    },
    "tags": []
   },
   "outputs": [
    {
     "name": "stdout",
     "output_type": "stream",
     "text": [
      "creating training data from 2003\n",
      "creating training data from 2004\n",
      "creating training data from 2005\n",
      "creating training data from 2006\n",
      "creating training data from 2007\n",
      "creating training data from 2008\n",
      "creating training data from 2009\n",
      "creating training data from 2010\n",
      "creating training data from 2011\n",
      "creating training data from 2012\n",
      "creating training data from 2013\n",
      "creating training data from 2014\n",
      "creating training data from 2015\n",
      "creating training data from 2016\n",
      "creating training data from 2017\n",
      "creating training data from 2018\n",
      "creating training data from 2019\n",
      "creating training data from 2021\n",
      "creating training data from 2022\n",
      "creating training data from 2023\n",
      "creating training data from 2024\n"
     ]
    }
   ],
   "source": [
    "seasons = [2003, 2004, 2005, 2006, 2007, 2008, 2009, 2010, 2011, 2012, 2013,\n",
    "           2014, 2015, 2016, 2017, 2018, 2019, 2021, 2022, 2023, 2024]\n",
    "training_data = create_training_data(prepped_box_scores,seasons, 70)"
   ]
  },
  {
   "cell_type": "code",
   "execution_count": 8,
   "id": "241ef9af",
   "metadata": {
    "execution": {
     "iopub.execute_input": "2024-03-21T12:05:57.964981Z",
     "iopub.status.busy": "2024-03-21T12:05:57.964602Z",
     "iopub.status.idle": "2024-03-21T12:05:57.972095Z",
     "shell.execute_reply": "2024-03-21T12:05:57.971034Z"
    },
    "papermill": {
     "duration": 0.035088,
     "end_time": "2024-03-21T12:05:57.974476",
     "exception": false,
     "start_time": "2024-03-21T12:05:57.939388",
     "status": "completed"
    },
    "tags": []
   },
   "outputs": [
    {
     "data": {
      "text/plain": [
       "(118056, 47)"
      ]
     },
     "execution_count": 8,
     "metadata": {},
     "output_type": "execute_result"
    }
   ],
   "source": [
    "training_data.shape"
   ]
  },
  {
   "cell_type": "markdown",
   "id": "c32ed902",
   "metadata": {
    "papermill": {
     "duration": 0.022856,
     "end_time": "2024-03-21T12:05:58.020406",
     "exception": false,
     "start_time": "2024-03-21T12:05:57.997550",
     "status": "completed"
    },
    "tags": []
   },
   "source": [
    "# Modeling"
   ]
  },
  {
   "cell_type": "code",
   "execution_count": 9,
   "id": "19ea7960",
   "metadata": {
    "execution": {
     "iopub.execute_input": "2024-03-21T12:05:58.068667Z",
     "iopub.status.busy": "2024-03-21T12:05:58.067891Z",
     "iopub.status.idle": "2024-03-21T12:05:58.087639Z",
     "shell.execute_reply": "2024-03-21T12:05:58.086550Z"
    },
    "papermill": {
     "duration": 0.046276,
     "end_time": "2024-03-21T12:05:58.089932",
     "exception": false,
     "start_time": "2024-03-21T12:05:58.043656",
     "status": "completed"
    },
    "tags": []
   },
   "outputs": [
    {
     "data": {
      "text/plain": [
       "count    118056.000000\n",
       "mean          0.000000\n",
       "std          13.431372\n",
       "min         -62.000000\n",
       "25%          -9.000000\n",
       "50%           0.000000\n",
       "75%           9.000000\n",
       "max          62.000000\n",
       "dtype: float64"
      ]
     },
     "execution_count": 9,
     "metadata": {},
     "output_type": "execute_result"
    }
   ],
   "source": [
    "y = training_data['T1_Score'] - training_data['T2_Score']\n",
    "y.describe()"
   ]
  },
  {
   "cell_type": "code",
   "execution_count": 10,
   "id": "81d30cde",
   "metadata": {
    "execution": {
     "iopub.execute_input": "2024-03-21T12:05:58.138347Z",
     "iopub.status.busy": "2024-03-21T12:05:58.137888Z",
     "iopub.status.idle": "2024-03-21T12:05:58.146452Z",
     "shell.execute_reply": "2024-03-21T12:05:58.145196Z"
    },
    "papermill": {
     "duration": 0.035462,
     "end_time": "2024-03-21T12:05:58.148734",
     "exception": false,
     "start_time": "2024-03-21T12:05:58.113272",
     "status": "completed"
    },
    "tags": []
   },
   "outputs": [
    {
     "data": {
      "text/plain": [
       "42"
      ]
     },
     "execution_count": 10,
     "metadata": {},
     "output_type": "execute_result"
    }
   ],
   "source": [
    "features = list(training_data.columns[7:])\n",
    "features.append('DayNum')\n",
    "features.append('location')\n",
    "len(features)"
   ]
  },
  {
   "cell_type": "code",
   "execution_count": 11,
   "id": "22f6a67c",
   "metadata": {
    "execution": {
     "iopub.execute_input": "2024-03-21T12:05:58.197669Z",
     "iopub.status.busy": "2024-03-21T12:05:58.197068Z",
     "iopub.status.idle": "2024-03-21T12:05:58.241669Z",
     "shell.execute_reply": "2024-03-21T12:05:58.239886Z"
    },
    "papermill": {
     "duration": 0.071923,
     "end_time": "2024-03-21T12:05:58.244314",
     "exception": false,
     "start_time": "2024-03-21T12:05:58.172391",
     "status": "completed"
    },
    "tags": []
   },
   "outputs": [
    {
     "data": {
      "text/html": [
       "<div>\n",
       "<style scoped>\n",
       "    .dataframe tbody tr th:only-of-type {\n",
       "        vertical-align: middle;\n",
       "    }\n",
       "\n",
       "    .dataframe tbody tr th {\n",
       "        vertical-align: top;\n",
       "    }\n",
       "\n",
       "    .dataframe thead th {\n",
       "        text-align: right;\n",
       "    }\n",
       "</style>\n",
       "<table border=\"1\" class=\"dataframe\">\n",
       "  <thead>\n",
       "    <tr style=\"text-align: right;\">\n",
       "      <th></th>\n",
       "      <th>T1_FGMmean</th>\n",
       "      <th>T1_FGAmean</th>\n",
       "      <th>T1_FGM3mean</th>\n",
       "      <th>T1_FGA3mean</th>\n",
       "      <th>T1_ORmean</th>\n",
       "      <th>T1_Astmean</th>\n",
       "      <th>T1_TOmean</th>\n",
       "      <th>T1_Stlmean</th>\n",
       "      <th>T1_PFmean</th>\n",
       "      <th>T1_opponent_FGMmean</th>\n",
       "      <th>...</th>\n",
       "      <th>T2_opponent_ORmean</th>\n",
       "      <th>T2_opponent_Astmean</th>\n",
       "      <th>T2_opponent_TOmean</th>\n",
       "      <th>T2_opponent_Stlmean</th>\n",
       "      <th>T2_opponent_Blkmean</th>\n",
       "      <th>T2_PointDiffmean</th>\n",
       "      <th>T1_win_ratio_14d</th>\n",
       "      <th>T2_win_ratio_14d</th>\n",
       "      <th>DayNum</th>\n",
       "      <th>location</th>\n",
       "    </tr>\n",
       "  </thead>\n",
       "  <tbody>\n",
       "    <tr>\n",
       "      <th>0</th>\n",
       "      <td>24.000000</td>\n",
       "      <td>60.500000</td>\n",
       "      <td>7.400000</td>\n",
       "      <td>21.600000</td>\n",
       "      <td>12.900000</td>\n",
       "      <td>12.800000</td>\n",
       "      <td>20.800000</td>\n",
       "      <td>10.100000</td>\n",
       "      <td>20.200000</td>\n",
       "      <td>29.400000</td>\n",
       "      <td>...</td>\n",
       "      <td>17.083333</td>\n",
       "      <td>16.500000</td>\n",
       "      <td>17.250000</td>\n",
       "      <td>9.666667</td>\n",
       "      <td>4.333333</td>\n",
       "      <td>-32.583333</td>\n",
       "      <td>0.333333</td>\n",
       "      <td>0.00</td>\n",
       "      <td>70</td>\n",
       "      <td>-1</td>\n",
       "    </tr>\n",
       "    <tr>\n",
       "      <th>1</th>\n",
       "      <td>23.333333</td>\n",
       "      <td>57.166667</td>\n",
       "      <td>6.583333</td>\n",
       "      <td>18.416667</td>\n",
       "      <td>13.083333</td>\n",
       "      <td>11.666667</td>\n",
       "      <td>17.000000</td>\n",
       "      <td>8.833333</td>\n",
       "      <td>18.083333</td>\n",
       "      <td>23.000000</td>\n",
       "      <td>...</td>\n",
       "      <td>14.666667</td>\n",
       "      <td>17.777778</td>\n",
       "      <td>18.333333</td>\n",
       "      <td>6.111111</td>\n",
       "      <td>1.111111</td>\n",
       "      <td>-4.888889</td>\n",
       "      <td>0.750000</td>\n",
       "      <td>1.00</td>\n",
       "      <td>70</td>\n",
       "      <td>-1</td>\n",
       "    </tr>\n",
       "    <tr>\n",
       "      <th>2</th>\n",
       "      <td>30.375000</td>\n",
       "      <td>64.750000</td>\n",
       "      <td>7.750000</td>\n",
       "      <td>23.875000</td>\n",
       "      <td>10.750000</td>\n",
       "      <td>17.250000</td>\n",
       "      <td>17.500000</td>\n",
       "      <td>10.125000</td>\n",
       "      <td>18.000000</td>\n",
       "      <td>30.250000</td>\n",
       "      <td>...</td>\n",
       "      <td>12.700000</td>\n",
       "      <td>17.600000</td>\n",
       "      <td>17.400000</td>\n",
       "      <td>8.700000</td>\n",
       "      <td>3.600000</td>\n",
       "      <td>-3.100000</td>\n",
       "      <td>1.000000</td>\n",
       "      <td>0.75</td>\n",
       "      <td>70</td>\n",
       "      <td>-1</td>\n",
       "    </tr>\n",
       "    <tr>\n",
       "      <th>3</th>\n",
       "      <td>23.153846</td>\n",
       "      <td>52.615385</td>\n",
       "      <td>5.384615</td>\n",
       "      <td>16.461538</td>\n",
       "      <td>10.846154</td>\n",
       "      <td>13.230769</td>\n",
       "      <td>18.384615</td>\n",
       "      <td>7.538462</td>\n",
       "      <td>18.769231</td>\n",
       "      <td>26.615385</td>\n",
       "      <td>...</td>\n",
       "      <td>13.153846</td>\n",
       "      <td>14.153846</td>\n",
       "      <td>15.307692</td>\n",
       "      <td>8.769231</td>\n",
       "      <td>4.461538</td>\n",
       "      <td>-13.923077</td>\n",
       "      <td>0.333333</td>\n",
       "      <td>0.25</td>\n",
       "      <td>70</td>\n",
       "      <td>-1</td>\n",
       "    </tr>\n",
       "    <tr>\n",
       "      <th>4</th>\n",
       "      <td>23.285714</td>\n",
       "      <td>54.214286</td>\n",
       "      <td>4.428571</td>\n",
       "      <td>13.428571</td>\n",
       "      <td>11.214286</td>\n",
       "      <td>11.357143</td>\n",
       "      <td>18.071429</td>\n",
       "      <td>8.642857</td>\n",
       "      <td>20.714286</td>\n",
       "      <td>27.142857</td>\n",
       "      <td>...</td>\n",
       "      <td>14.200000</td>\n",
       "      <td>11.900000</td>\n",
       "      <td>18.000000</td>\n",
       "      <td>11.200000</td>\n",
       "      <td>4.300000</td>\n",
       "      <td>-9.800000</td>\n",
       "      <td>0.250000</td>\n",
       "      <td>0.25</td>\n",
       "      <td>70</td>\n",
       "      <td>-1</td>\n",
       "    </tr>\n",
       "  </tbody>\n",
       "</table>\n",
       "<p>5 rows × 42 columns</p>\n",
       "</div>"
      ],
      "text/plain": [
       "   T1_FGMmean  T1_FGAmean  T1_FGM3mean  T1_FGA3mean  T1_ORmean  T1_Astmean  \\\n",
       "0   24.000000   60.500000     7.400000    21.600000  12.900000   12.800000   \n",
       "1   23.333333   57.166667     6.583333    18.416667  13.083333   11.666667   \n",
       "2   30.375000   64.750000     7.750000    23.875000  10.750000   17.250000   \n",
       "3   23.153846   52.615385     5.384615    16.461538  10.846154   13.230769   \n",
       "4   23.285714   54.214286     4.428571    13.428571  11.214286   11.357143   \n",
       "\n",
       "   T1_TOmean  T1_Stlmean  T1_PFmean  T1_opponent_FGMmean  ...  \\\n",
       "0  20.800000   10.100000  20.200000            29.400000  ...   \n",
       "1  17.000000    8.833333  18.083333            23.000000  ...   \n",
       "2  17.500000   10.125000  18.000000            30.250000  ...   \n",
       "3  18.384615    7.538462  18.769231            26.615385  ...   \n",
       "4  18.071429    8.642857  20.714286            27.142857  ...   \n",
       "\n",
       "   T2_opponent_ORmean  T2_opponent_Astmean  T2_opponent_TOmean  \\\n",
       "0           17.083333            16.500000           17.250000   \n",
       "1           14.666667            17.777778           18.333333   \n",
       "2           12.700000            17.600000           17.400000   \n",
       "3           13.153846            14.153846           15.307692   \n",
       "4           14.200000            11.900000           18.000000   \n",
       "\n",
       "   T2_opponent_Stlmean  T2_opponent_Blkmean  T2_PointDiffmean  \\\n",
       "0             9.666667             4.333333        -32.583333   \n",
       "1             6.111111             1.111111         -4.888889   \n",
       "2             8.700000             3.600000         -3.100000   \n",
       "3             8.769231             4.461538        -13.923077   \n",
       "4            11.200000             4.300000         -9.800000   \n",
       "\n",
       "   T1_win_ratio_14d  T2_win_ratio_14d  DayNum  location  \n",
       "0          0.333333              0.00      70        -1  \n",
       "1          0.750000              1.00      70        -1  \n",
       "2          1.000000              0.75      70        -1  \n",
       "3          0.333333              0.25      70        -1  \n",
       "4          0.250000              0.25      70        -1  \n",
       "\n",
       "[5 rows x 42 columns]"
      ]
     },
     "execution_count": 11,
     "metadata": {},
     "output_type": "execute_result"
    }
   ],
   "source": [
    "training_data[features].head()"
   ]
  },
  {
   "cell_type": "code",
   "execution_count": 12,
   "id": "ad8e7f07",
   "metadata": {
    "execution": {
     "iopub.execute_input": "2024-03-21T12:05:58.294604Z",
     "iopub.status.busy": "2024-03-21T12:05:58.294205Z",
     "iopub.status.idle": "2024-03-21T12:05:58.443680Z",
     "shell.execute_reply": "2024-03-21T12:05:58.442733Z"
    },
    "papermill": {
     "duration": 0.177873,
     "end_time": "2024-03-21T12:05:58.446274",
     "exception": false,
     "start_time": "2024-03-21T12:05:58.268401",
     "status": "completed"
    },
    "tags": []
   },
   "outputs": [],
   "source": [
    "X = training_data[features].values\n",
    "dtrain = xgb.DMatrix(X, label = y)"
   ]
  },
  {
   "cell_type": "code",
   "execution_count": 13,
   "id": "a5e3f1d8",
   "metadata": {
    "execution": {
     "iopub.execute_input": "2024-03-21T12:05:58.497602Z",
     "iopub.status.busy": "2024-03-21T12:05:58.497207Z",
     "iopub.status.idle": "2024-03-21T12:05:58.503776Z",
     "shell.execute_reply": "2024-03-21T12:05:58.502596Z"
    },
    "papermill": {
     "duration": 0.034427,
     "end_time": "2024-03-21T12:05:58.506155",
     "exception": false,
     "start_time": "2024-03-21T12:05:58.471728",
     "status": "completed"
    },
    "tags": []
   },
   "outputs": [],
   "source": [
    "def cauchyobj(preds, dtrain):\n",
    "    labels = dtrain.get_label()\n",
    "    c = 5000 \n",
    "    x =  preds-labels    \n",
    "    grad = x / (x**2/c**2+1)\n",
    "    hess = -c**2*(x**2-c**2)/(x**2+c**2)**2\n",
    "    return grad, hess"
   ]
  },
  {
   "cell_type": "code",
   "execution_count": 14,
   "id": "0a78cf2a",
   "metadata": {
    "execution": {
     "iopub.execute_input": "2024-03-21T12:05:58.557442Z",
     "iopub.status.busy": "2024-03-21T12:05:58.556431Z",
     "iopub.status.idle": "2024-03-21T12:05:58.564703Z",
     "shell.execute_reply": "2024-03-21T12:05:58.563426Z"
    },
    "papermill": {
     "duration": 0.036133,
     "end_time": "2024-03-21T12:05:58.566967",
     "exception": false,
     "start_time": "2024-03-21T12:05:58.530834",
     "status": "completed"
    },
    "tags": []
   },
   "outputs": [
    {
     "name": "stdout",
     "output_type": "stream",
     "text": [
      "{'eval_metric': 'mae', 'booster': 'gbtree', 'eta': 0.05, 'subsample': 0.35, 'colsample_bytree': 0.7, 'num_parallel_tree': 3, 'min_child_weight': 40, 'gamma': 10, 'max_depth': 3}\n"
     ]
    }
   ],
   "source": [
    "param = {} \n",
    "param['eval_metric'] =  'mae'\n",
    "param['booster'] = 'gbtree'\n",
    "param['eta'] = 0.05 #change to ~0.02 for final run\n",
    "param['subsample'] = 0.35\n",
    "param['colsample_bytree'] = 0.7\n",
    "param['num_parallel_tree'] = 3 #recommend 10\n",
    "param['min_child_weight'] = 40\n",
    "param['gamma'] = 10\n",
    "param['max_depth'] =  3\n",
    "\n",
    "print(param)"
   ]
  },
  {
   "cell_type": "code",
   "execution_count": 15,
   "id": "cc0d9bc4",
   "metadata": {
    "execution": {
     "iopub.execute_input": "2024-03-21T12:05:58.616758Z",
     "iopub.status.busy": "2024-03-21T12:05:58.616390Z",
     "iopub.status.idle": "2024-03-21T12:32:38.776840Z",
     "shell.execute_reply": "2024-03-21T12:32:38.775532Z"
    },
    "papermill": {
     "duration": 1600.18877,
     "end_time": "2024-03-21T12:32:38.779654",
     "exception": false,
     "start_time": "2024-03-21T12:05:58.590884",
     "status": "completed"
    },
    "tags": []
   },
   "outputs": [
    {
     "name": "stdout",
     "output_type": "stream",
     "text": [
      "Fold repeater 0\n",
      "[0]\ttrain-mae:10.70117+0.00950\ttest-mae:10.70194+0.04083\n",
      "[50]\ttrain-mae:8.88889+0.00975\ttest-mae:8.90957+0.02615\n",
      "[100]\ttrain-mae:8.67895+0.00940\ttest-mae:8.70979+0.03132\n",
      "[150]\ttrain-mae:8.63134+0.00955\ttest-mae:8.67452+0.03435\n",
      "[200]\ttrain-mae:8.60644+0.00966\ttest-mae:8.66221+0.03530\n",
      "[250]\ttrain-mae:8.58794+0.00967\ttest-mae:8.65562+0.03580\n",
      "[300]\ttrain-mae:8.57216+0.00984\ttest-mae:8.65084+0.03618\n",
      "[350]\ttrain-mae:8.55805+0.00979\ttest-mae:8.64730+0.03646\n",
      "[400]\ttrain-mae:8.54440+0.00986\ttest-mae:8.64443+0.03649\n",
      "[450]\ttrain-mae:8.53187+0.00944\ttest-mae:8.64245+0.03676\n",
      "[500]\ttrain-mae:8.51961+0.00933\ttest-mae:8.64089+0.03665\n",
      "[550]\ttrain-mae:8.50795+0.00935\ttest-mae:8.63935+0.03671\n",
      "[600]\ttrain-mae:8.49677+0.00944\ttest-mae:8.63815+0.03652\n",
      "[650]\ttrain-mae:8.48561+0.00952\ttest-mae:8.63725+0.03630\n",
      "[700]\ttrain-mae:8.47528+0.00960\ttest-mae:8.63653+0.03650\n",
      "[725]\ttrain-mae:8.47006+0.00968\ttest-mae:8.63675+0.03656\n",
      "Fold repeater 1\n",
      "[0]\ttrain-mae:10.70114+0.01033\ttest-mae:10.70147+0.04135\n",
      "[50]\ttrain-mae:8.88872+0.00449\ttest-mae:8.90856+0.02264\n",
      "[100]\ttrain-mae:8.67847+0.00430\ttest-mae:8.70950+0.01781\n",
      "[150]\ttrain-mae:8.63139+0.00406\ttest-mae:8.67427+0.01626\n",
      "[200]\ttrain-mae:8.60600+0.00441\ttest-mae:8.66153+0.01646\n",
      "[250]\ttrain-mae:8.58748+0.00475\ttest-mae:8.65453+0.01710\n",
      "[300]\ttrain-mae:8.57180+0.00440\ttest-mae:8.65002+0.01734\n",
      "[350]\ttrain-mae:8.55754+0.00446\ttest-mae:8.64664+0.01832\n",
      "[400]\ttrain-mae:8.54420+0.00432\ttest-mae:8.64384+0.01844\n",
      "[450]\ttrain-mae:8.53166+0.00424\ttest-mae:8.64170+0.01861\n",
      "[500]\ttrain-mae:8.51955+0.00397\ttest-mae:8.64008+0.01836\n",
      "[550]\ttrain-mae:8.50776+0.00396\ttest-mae:8.63831+0.01850\n",
      "[600]\ttrain-mae:8.49662+0.00416\ttest-mae:8.63695+0.01833\n",
      "[650]\ttrain-mae:8.48578+0.00416\ttest-mae:8.63589+0.01874\n",
      "[700]\ttrain-mae:8.47505+0.00399\ttest-mae:8.63467+0.01883\n",
      "[750]\ttrain-mae:8.46473+0.00397\ttest-mae:8.63362+0.01918\n",
      "[800]\ttrain-mae:8.45452+0.00392\ttest-mae:8.63287+0.01908\n",
      "[850]\ttrain-mae:8.44431+0.00395\ttest-mae:8.63175+0.01900\n",
      "[900]\ttrain-mae:8.43446+0.00392\ttest-mae:8.63133+0.01958\n",
      "[950]\ttrain-mae:8.42489+0.00385\ttest-mae:8.63126+0.01959\n",
      "[955]\ttrain-mae:8.42397+0.00381\ttest-mae:8.63106+0.01955\n",
      "Fold repeater 2\n",
      "[0]\ttrain-mae:10.70058+0.00864\ttest-mae:10.70134+0.03613\n",
      "[50]\ttrain-mae:8.88793+0.01267\ttest-mae:8.90796+0.04539\n",
      "[100]\ttrain-mae:8.67801+0.01337\ttest-mae:8.70908+0.04973\n",
      "[150]\ttrain-mae:8.63106+0.01383\ttest-mae:8.67485+0.05166\n",
      "[200]\ttrain-mae:8.60610+0.01377\ttest-mae:8.66265+0.05117\n",
      "[250]\ttrain-mae:8.58770+0.01364\ttest-mae:8.65590+0.05110\n",
      "[300]\ttrain-mae:8.57196+0.01342\ttest-mae:8.65160+0.05026\n",
      "[350]\ttrain-mae:8.55762+0.01340\ttest-mae:8.64829+0.05005\n",
      "[400]\ttrain-mae:8.54451+0.01335\ttest-mae:8.64562+0.04975\n",
      "[450]\ttrain-mae:8.53200+0.01336\ttest-mae:8.64358+0.04962\n",
      "[500]\ttrain-mae:8.51983+0.01350\ttest-mae:8.64165+0.04964\n",
      "[550]\ttrain-mae:8.50810+0.01337\ttest-mae:8.64028+0.04905\n",
      "[600]\ttrain-mae:8.49663+0.01324\ttest-mae:8.63913+0.04895\n",
      "[650]\ttrain-mae:8.48581+0.01347\ttest-mae:8.63850+0.04852\n",
      "[700]\ttrain-mae:8.47514+0.01338\ttest-mae:8.63783+0.04898\n",
      "[750]\ttrain-mae:8.46447+0.01326\ttest-mae:8.63671+0.04931\n",
      "[800]\ttrain-mae:8.45416+0.01330\ttest-mae:8.63645+0.04908\n",
      "[850]\ttrain-mae:8.44418+0.01313\ttest-mae:8.63533+0.04915\n",
      "[900]\ttrain-mae:8.43405+0.01354\ttest-mae:8.63501+0.04886\n",
      "[950]\ttrain-mae:8.42421+0.01367\ttest-mae:8.63469+0.04895\n",
      "[1000]\ttrain-mae:8.41459+0.01363\ttest-mae:8.63425+0.04896\n",
      "[1021]\ttrain-mae:8.41068+0.01363\ttest-mae:8.63441+0.04877\n"
     ]
    }
   ],
   "source": [
    "xgb_cv = []\n",
    "repeat_cv = 3 # recommend 10\n",
    "\n",
    "for i in range(repeat_cv): \n",
    "    print(f\"Fold repeater {i}\")\n",
    "    xgb_cv.append(\n",
    "        xgb.cv(\n",
    "          params = param,\n",
    "          dtrain = dtrain,\n",
    "          obj = cauchyobj,\n",
    "          num_boost_round = 3000,\n",
    "          folds = KFold(n_splits = 5, shuffle = True, random_state = i),\n",
    "          early_stopping_rounds = 25,\n",
    "          verbose_eval = 50\n",
    "        )\n",
    "    )"
   ]
  },
  {
   "cell_type": "code",
   "execution_count": 16,
   "id": "54f9d112",
   "metadata": {
    "execution": {
     "iopub.execute_input": "2024-03-21T12:32:38.842325Z",
     "iopub.status.busy": "2024-03-21T12:32:38.841881Z",
     "iopub.status.idle": "2024-03-21T12:32:38.851140Z",
     "shell.execute_reply": "2024-03-21T12:32:38.850030Z"
    },
    "papermill": {
     "duration": 0.043804,
     "end_time": "2024-03-21T12:32:38.853339",
     "exception": false,
     "start_time": "2024-03-21T12:32:38.809535",
     "status": "completed"
    },
    "tags": []
   },
   "outputs": [
    {
     "data": {
      "text/plain": [
       "([701, 930, 996], [8.636496908279808, 8.630966302525291, 8.634061885489762])"
      ]
     },
     "execution_count": 16,
     "metadata": {},
     "output_type": "execute_result"
    }
   ],
   "source": [
    "iteration_counts = [np.argmin(x['test-mae-mean'].values) for x in xgb_cv]\n",
    "val_mae = [np.min(x['test-mae-mean'].values) for x in xgb_cv]\n",
    "iteration_counts, val_mae\n"
   ]
  },
  {
   "cell_type": "code",
   "execution_count": 17,
   "id": "c82ea141",
   "metadata": {
    "execution": {
     "iopub.execute_input": "2024-03-21T12:32:38.916666Z",
     "iopub.status.busy": "2024-03-21T12:32:38.916246Z",
     "iopub.status.idle": "2024-03-21T12:40:24.439111Z",
     "shell.execute_reply": "2024-03-21T12:40:24.431723Z"
    },
    "papermill": {
     "duration": 465.557025,
     "end_time": "2024-03-21T12:40:24.441959",
     "exception": false,
     "start_time": "2024-03-21T12:32:38.884934",
     "status": "completed"
    },
    "tags": []
   },
   "outputs": [
    {
     "name": "stdout",
     "output_type": "stream",
     "text": [
      "Fold repeater 0\n",
      "Fold repeater 1\n",
      "Fold repeater 2\n"
     ]
    }
   ],
   "source": [
    "oof_preds = []\n",
    "for i in range(repeat_cv):\n",
    "    print(f\"Fold repeater {i}\")\n",
    "    preds = y.astype('float64').copy()\n",
    "    kfold = KFold(n_splits = 5, shuffle = True, random_state = i)    \n",
    "    for train_index, val_index in kfold.split(X,y):\n",
    "        dtrain_i = xgb.DMatrix(X[train_index], label = y[train_index])\n",
    "        dval_i = xgb.DMatrix(X[val_index], label = y[val_index])  \n",
    "        model = xgb.train(\n",
    "              params = param,\n",
    "              dtrain = dtrain_i,\n",
    "              num_boost_round = iteration_counts[i],\n",
    "              verbose_eval = 50\n",
    "        )\n",
    "        preds[val_index] = model.predict(dval_i)\n",
    "    oof_preds.append(np.clip(preds,-25,25))"
   ]
  },
  {
   "cell_type": "code",
   "execution_count": 18,
   "id": "8e10b547",
   "metadata": {
    "execution": {
     "iopub.execute_input": "2024-03-21T12:40:24.510324Z",
     "iopub.status.busy": "2024-03-21T12:40:24.509856Z",
     "iopub.status.idle": "2024-03-21T12:40:24.813206Z",
     "shell.execute_reply": "2024-03-21T12:40:24.812055Z"
    },
    "papermill": {
     "duration": 0.338568,
     "end_time": "2024-03-21T12:40:24.815634",
     "exception": false,
     "start_time": "2024-03-21T12:40:24.477066",
     "status": "completed"
    },
    "tags": []
   },
   "outputs": [
    {
     "data": {
      "text/plain": [
       "[<matplotlib.lines.Line2D at 0x7ec6945fbdf0>]"
      ]
     },
     "execution_count": 18,
     "metadata": {},
     "output_type": "execute_result"
    },
    {
     "data": {
      "image/png": "[encoded data removed]",
      "text/plain": [
       "<Figure size 640x480 with 1 Axes>"
      ]
     },
     "metadata": {},
     "output_type": "display_data"
    }
   ],
   "source": [
    "plot_df = pd.DataFrame({\"pred\":oof_preds[0], \"label\":np.where(y>0,1,0)})\n",
    "plot_df[\"pred_int\"] = plot_df[\"pred\"].astype(int)\n",
    "plot_df = plot_df.groupby('pred_int')['label'].mean().reset_index(name='average_win_pct')\n",
    "\n",
    "plt.figure()\n",
    "plt.plot(plot_df.pred_int,plot_df.average_win_pct)"
   ]
  },
  {
   "cell_type": "code",
   "execution_count": 19,
   "id": "8959dfe6",
   "metadata": {
    "execution": {
     "iopub.execute_input": "2024-03-21T12:40:24.880326Z",
     "iopub.status.busy": "2024-03-21T12:40:24.879391Z",
     "iopub.status.idle": "2024-03-21T12:40:25.983126Z",
     "shell.execute_reply": "2024-03-21T12:40:25.981701Z"
    },
    "papermill": {
     "duration": 1.138748,
     "end_time": "2024-03-21T12:40:25.985700",
     "exception": false,
     "start_time": "2024-03-21T12:40:24.846952",
     "status": "completed"
    },
    "tags": []
   },
   "outputs": [
    {
     "name": "stdout",
     "output_type": "stream",
     "text": [
      "logloss of cvsplit 0: 0.5623652965461777\n",
      "logloss of cvsplit 1: 0.5621592848126068\n",
      "logloss of cvsplit 2: 0.5622157036721163\n"
     ]
    }
   ],
   "source": [
    "spline_model = []\n",
    "\n",
    "for i in range(repeat_cv):\n",
    "    dat = list(zip(oof_preds[i],np.where(y>0,1,0)))\n",
    "    dat = sorted(dat, key = lambda x: x[0])\n",
    "    datdict = {}\n",
    "    for k in range(len(dat)):\n",
    "        datdict[dat[k][0]]= dat[k][1]\n",
    "        \n",
    "    spline_model.append(UnivariateSpline(list(datdict.keys()), list(datdict.values())))\n",
    "    spline_fit = spline_model[i](oof_preds[i])\n",
    "    \n",
    "    print(f\"logloss of cvsplit {i}: {log_loss(np.where(y>0,1,0),spline_fit)}\") "
   ]
  },
  {
   "cell_type": "code",
   "execution_count": 20,
   "id": "860c25b7",
   "metadata": {
    "execution": {
     "iopub.execute_input": "2024-03-21T12:40:26.049672Z",
     "iopub.status.busy": "2024-03-21T12:40:26.049283Z",
     "iopub.status.idle": "2024-03-21T12:40:26.354745Z",
     "shell.execute_reply": "2024-03-21T12:40:26.353647Z"
    },
    "papermill": {
     "duration": 0.340563,
     "end_time": "2024-03-21T12:40:26.357274",
     "exception": false,
     "start_time": "2024-03-21T12:40:26.016711",
     "status": "completed"
    },
    "tags": []
   },
   "outputs": [
    {
     "data": {
      "text/plain": [
       "[<matplotlib.lines.Line2D at 0x7ec694434b50>]"
      ]
     },
     "execution_count": 20,
     "metadata": {},
     "output_type": "execute_result"
    },
    {
     "data": {
      "image/png": "[encoded data removed]",
      "text/plain": [
       "<Figure size 640x480 with 1 Axes>"
      ]
     },
     "metadata": {},
     "output_type": "display_data"
    }
   ],
   "source": [
    "plot_df = pd.DataFrame({\"pred\":oof_preds[0], \"label\":np.where(y>0,1,0), \"spline\":spline_model[0](oof_preds[0])})\n",
    "plot_df[\"pred_int\"] = (plot_df[\"pred\"]).astype(int)\n",
    "plot_df = plot_df.groupby('pred_int')[['spline','label']].mean().reset_index()\n",
    "\n",
    "plt.figure()\n",
    "plt.plot(plot_df.pred_int,plot_df.spline)\n",
    "plt.plot(plot_df.pred_int,plot_df.label)"
   ]
  },
  {
   "cell_type": "code",
   "execution_count": 21,
   "id": "805701db",
   "metadata": {
    "execution": {
     "iopub.execute_input": "2024-03-21T12:40:26.424346Z",
     "iopub.status.busy": "2024-03-21T12:40:26.423236Z",
     "iopub.status.idle": "2024-03-21T12:40:27.570438Z",
     "shell.execute_reply": "2024-03-21T12:40:27.569192Z"
    },
    "papermill": {
     "duration": 1.182645,
     "end_time": "2024-03-21T12:40:27.572791",
     "exception": false,
     "start_time": "2024-03-21T12:40:26.390146",
     "status": "completed"
    },
    "tags": []
   },
   "outputs": [
    {
     "name": "stdout",
     "output_type": "stream",
     "text": [
      "adjusted logloss of cvsplit 0: 0.5623652965461777\n",
      "adjusted logloss of cvsplit 1: 0.5621592848126068\n",
      "adjusted logloss of cvsplit 2: 0.5622157036721163\n"
     ]
    }
   ],
   "source": [
    "spline_model = []\n",
    "\n",
    "for i in range(repeat_cv):\n",
    "    dat = list(zip(oof_preds[i],np.where(y>0,1,0)))\n",
    "    dat = sorted(dat, key = lambda x: x[0])\n",
    "    datdict = {}\n",
    "    for k in range(len(dat)):\n",
    "        datdict[dat[k][0]]= dat[k][1]\n",
    "    spline_model.append(UnivariateSpline(list(datdict.keys()), list(datdict.values())))\n",
    "    spline_fit = spline_model[i](oof_preds[i])\n",
    "    spline_fit = np.clip(spline_fit,0.025,0.975)\n",
    "    \n",
    "    print(f\"adjusted logloss of cvsplit {i}: {log_loss(np.where(y>0,1,0),spline_fit)}\") "
   ]
  },
  {
   "cell_type": "code",
   "execution_count": 22,
   "id": "307a83f0",
   "metadata": {
    "execution": {
     "iopub.execute_input": "2024-03-21T12:40:27.640160Z",
     "iopub.status.busy": "2024-03-21T12:40:27.639725Z",
     "iopub.status.idle": "2024-03-21T12:42:25.787657Z",
     "shell.execute_reply": "2024-03-21T12:42:25.786432Z"
    },
    "papermill": {
     "duration": 118.184839,
     "end_time": "2024-03-21T12:42:25.790304",
     "exception": false,
     "start_time": "2024-03-21T12:40:27.605465",
     "status": "completed"
    },
    "tags": []
   },
   "outputs": [
    {
     "name": "stdout",
     "output_type": "stream",
     "text": [
      "Fold repeater 0\n",
      "Fold repeater 1\n",
      "Fold repeater 2\n"
     ]
    }
   ],
   "source": [
    "repeat_cv = 3\n",
    "\n",
    "pred_models = []\n",
    "for i in range(repeat_cv):\n",
    "    print(f\"Fold repeater {i}\")\n",
    "    pred_models.append(\n",
    "        xgb.train(\n",
    "          params = param,\n",
    "          dtrain = dtrain,\n",
    "          num_boost_round = int(iteration_counts[i] * 1.05),\n",
    "          verbose_eval = 50\n",
    "        )\n",
    "    )"
   ]
  },
  {
   "cell_type": "markdown",
   "id": "ff3452be",
   "metadata": {
    "papermill": {
     "duration": 0.031693,
     "end_time": "2024-03-21T12:42:25.854851",
     "exception": false,
     "start_time": "2024-03-21T12:42:25.823158",
     "status": "completed"
    },
    "tags": []
   },
   "source": [
    "# Make Predictions"
   ]
  },
  {
   "cell_type": "code",
   "execution_count": 23,
   "id": "0304e865",
   "metadata": {
    "execution": {
     "iopub.execute_input": "2024-03-21T12:42:25.922000Z",
     "iopub.status.busy": "2024-03-21T12:42:25.920736Z",
     "iopub.status.idle": "2024-03-21T12:42:25.939981Z",
     "shell.execute_reply": "2024-03-21T12:42:25.938686Z"
    },
    "papermill": {
     "duration": 0.055839,
     "end_time": "2024-03-21T12:42:25.943052",
     "exception": false,
     "start_time": "2024-03-21T12:42:25.887213",
     "status": "completed"
    },
    "tags": []
   },
   "outputs": [],
   "source": [
    "seeds = pd.read_csv('/kaggle/input/march-machine-learning-mania-2024/2024_tourney_seeds.csv')\n",
    "seeds_m = seeds[seeds['Tournament'] == 'M'].copy()\n",
    "seeds_w = seeds[seeds['Tournament'] == 'W'].copy()\n",
    "\n",
    "seeds_m['TeamID'] = seeds_m['TeamID'].replace(1224, 1447)\n",
    "seeds_m['TeamID'] = seeds_m['TeamID'].replace(1129, 1160)"
   ]
  },
  {
   "cell_type": "code",
   "execution_count": 24,
   "id": "8d8afcc9",
   "metadata": {
    "execution": {
     "iopub.execute_input": "2024-03-21T12:42:26.010069Z",
     "iopub.status.busy": "2024-03-21T12:42:26.009687Z",
     "iopub.status.idle": "2024-03-21T12:42:26.018804Z",
     "shell.execute_reply": "2024-03-21T12:42:26.017796Z"
    },
    "papermill": {
     "duration": 0.045151,
     "end_time": "2024-03-21T12:42:26.021050",
     "exception": false,
     "start_time": "2024-03-21T12:42:25.975899",
     "status": "completed"
    },
    "tags": []
   },
   "outputs": [],
   "source": [
    "# Pull the team data\n",
    "stats_data = prepped_box_scores[prepped_box_scores['Season']==2024].copy()"
   ]
  },
  {
   "cell_type": "code",
   "execution_count": 25,
   "id": "1bf4ef3f",
   "metadata": {
    "execution": {
     "iopub.execute_input": "2024-03-21T12:42:26.087658Z",
     "iopub.status.busy": "2024-03-21T12:42:26.087019Z",
     "iopub.status.idle": "2024-03-21T12:42:26.112901Z",
     "shell.execute_reply": "2024-03-21T12:42:26.111610Z"
    },
    "papermill": {
     "duration": 0.061988,
     "end_time": "2024-03-21T12:42:26.115368",
     "exception": false,
     "start_time": "2024-03-21T12:42:26.053380",
     "status": "completed"
    },
    "tags": []
   },
   "outputs": [
    {
     "name": "stdout",
     "output_type": "stream",
     "text": [
      "2016\n"
     ]
    }
   ],
   "source": [
    "# Create the team matchups\n",
    "unique_teams = seeds_m['TeamID'].unique()\n",
    "team_pairs = list(combinations(unique_teams, 2))\n",
    "\n",
    "game_data_m = pd.DataFrame(team_pairs, columns=['T1_TeamID', 'T2_TeamID'])\n",
    "game_data_m['Season'] = 2024\n",
    "game_data_m['DayNum'] = stats_data['DayNum'].max()\n",
    "game_data_m['location'] = 0\n",
    "\n",
    "game_data_m.head()\n",
    "print(len(game_data_m))"
   ]
  },
  {
   "cell_type": "code",
   "execution_count": 26,
   "id": "373b4afe",
   "metadata": {
    "execution": {
     "iopub.execute_input": "2024-03-21T12:42:26.181896Z",
     "iopub.status.busy": "2024-03-21T12:42:26.181466Z",
     "iopub.status.idle": "2024-03-21T12:42:26.203212Z",
     "shell.execute_reply": "2024-03-21T12:42:26.202307Z"
    },
    "papermill": {
     "duration": 0.057761,
     "end_time": "2024-03-21T12:42:26.205691",
     "exception": false,
     "start_time": "2024-03-21T12:42:26.147930",
     "status": "completed"
    },
    "tags": []
   },
   "outputs": [],
   "source": [
    "def create_feature_data(game_data, stats_data):\n",
    "    # Basic group by features\n",
    "    boxscore_cols = ['T1_FGM', 'T1_FGA', 'T1_FGM3', 'T1_FGA3', 'T1_OR', 'T1_Ast', 'T1_TO', 'T1_Stl', 'T1_PF', \n",
    "                     'T2_FGM', 'T2_FGA', 'T2_FGM3', 'T2_FGA3', 'T2_OR', 'T2_Ast', 'T2_TO', 'T2_Stl', 'T2_Blk',  \n",
    "                     'PointDiff']\n",
    "    funcs = ['mean']\n",
    "\n",
    "    gameDayNum = stats_data['DayNum'].max()\n",
    "    \n",
    "    # Create season level means\n",
    "    season_statistics = stats_data.groupby([\"Season\", 'T1_TeamID'])[boxscore_cols].agg(funcs).reset_index()\n",
    "    season_statistics.columns = [''.join(col).strip() for col in season_statistics.columns.values]\n",
    "\n",
    "    season_statistics_T1 = season_statistics.copy()\n",
    "    season_statistics_T2 = season_statistics.copy()\n",
    "\n",
    "    season_statistics_T1.columns = [\"T1_\" + x.replace(\"T1_\",\"\").replace(\"T2_\",\"opponent_\") for x in list(season_statistics_T1.columns)]\n",
    "    season_statistics_T2.columns = [\"T2_\" + x.replace(\"T1_\",\"\").replace(\"T2_\",\"opponent_\") for x in list(season_statistics_T2.columns)]\n",
    "    season_statistics_T1.columns.values[0] = \"Season\"\n",
    "    season_statistics_T2.columns.values[0] = \"Season\"\n",
    "\n",
    "    # Collect win ratios for past 14 days\n",
    "\n",
    "    last14days_stats_T1 = stats_data[stats_data['DayNum'] >= gameDayNum - 14].copy().reset_index(drop=True)\n",
    "    last14days_stats_T1['win'] = np.where(last14days_stats_T1['PointDiff']>0,1,0)\n",
    "    last14days_stats_T1 = last14days_stats_T1.groupby(['Season','T1_TeamID'])['win'].mean().reset_index(name='T1_win_ratio_14d')\n",
    "\n",
    "    last14days_stats_T2 = stats_data[stats_data['DayNum'] >= gameDayNum - 14].copy().reset_index(drop=True)\n",
    "    last14days_stats_T2['win'] = np.where(last14days_stats_T2['PointDiff']<0,1,0)\n",
    "    last14days_stats_T2 = last14days_stats_T2.groupby(['Season','T2_TeamID'])['win'].mean().reset_index(name='T2_win_ratio_14d')\n",
    "\n",
    "    # Skip quality for now\n",
    "\n",
    "    # Merge together\n",
    "\n",
    "    game_data = game_data[['Season', 'DayNum', 'location', 'T1_TeamID', 'T2_TeamID']]\n",
    "\n",
    "    game_data = pd.merge(game_data, season_statistics_T1, on = ['Season', 'T1_TeamID'], how = 'left')\n",
    "    game_data = pd.merge(game_data, season_statistics_T2, on = ['Season', 'T2_TeamID'], how = 'left')\n",
    "\n",
    "    game_data = pd.merge(game_data, last14days_stats_T1, on = ['Season', 'T1_TeamID'], how = 'left')\n",
    "    game_data = pd.merge(game_data, last14days_stats_T2, on = ['Season', 'T2_TeamID'], how = 'left')\n",
    "\n",
    "    return game_data"
   ]
  },
  {
   "cell_type": "code",
   "execution_count": 27,
   "id": "88bb0c8c",
   "metadata": {
    "execution": {
     "iopub.execute_input": "2024-03-21T12:42:26.273318Z",
     "iopub.status.busy": "2024-03-21T12:42:26.272481Z",
     "iopub.status.idle": "2024-03-21T12:42:26.318049Z",
     "shell.execute_reply": "2024-03-21T12:42:26.316890Z"
    },
    "papermill": {
     "duration": 0.082446,
     "end_time": "2024-03-21T12:42:26.320828",
     "exception": false,
     "start_time": "2024-03-21T12:42:26.238382",
     "status": "completed"
    },
    "tags": []
   },
   "outputs": [],
   "source": [
    "feature_data = create_feature_data(game_data_m, stats_data)"
   ]
  },
  {
   "cell_type": "code",
   "execution_count": 28,
   "id": "1faf8de4",
   "metadata": {
    "execution": {
     "iopub.execute_input": "2024-03-21T12:42:26.388399Z",
     "iopub.status.busy": "2024-03-21T12:42:26.387972Z",
     "iopub.status.idle": "2024-03-21T12:42:26.411303Z",
     "shell.execute_reply": "2024-03-21T12:42:26.403848Z"
    },
    "papermill": {
     "duration": 0.060516,
     "end_time": "2024-03-21T12:42:26.414328",
     "exception": false,
     "start_time": "2024-03-21T12:42:26.353812",
     "status": "completed"
    },
    "tags": []
   },
   "outputs": [],
   "source": [
    "X = feature_data[features].values\n",
    "dtest = xgb.DMatrix(X)"
   ]
  },
  {
   "cell_type": "code",
   "execution_count": 29,
   "id": "eeb19805",
   "metadata": {
    "execution": {
     "iopub.execute_input": "2024-03-21T12:42:26.483650Z",
     "iopub.status.busy": "2024-03-21T12:42:26.482613Z",
     "iopub.status.idle": "2024-03-21T12:42:26.625682Z",
     "shell.execute_reply": "2024-03-21T12:42:26.624423Z"
    },
    "papermill": {
     "duration": 0.180508,
     "end_time": "2024-03-21T12:42:26.628579",
     "exception": false,
     "start_time": "2024-03-21T12:42:26.448071",
     "status": "completed"
    },
    "tags": []
   },
   "outputs": [],
   "source": [
    "preds = []\n",
    "for i in range(repeat_cv):\n",
    "    preds.append(np.clip(spline_model[i](np.clip(pred_models[i].predict(dtest),-19,19)),0.025,0.975))\n",
    "mean_predctions = pd.DataFrame(preds).mean(axis=0)\n",
    "mean_predctions.name = 'Pred'"
   ]
  },
  {
   "cell_type": "code",
   "execution_count": 30,
   "id": "2b2a8c34",
   "metadata": {
    "execution": {
     "iopub.execute_input": "2024-03-21T12:42:26.696254Z",
     "iopub.status.busy": "2024-03-21T12:42:26.694989Z",
     "iopub.status.idle": "2024-03-21T12:42:26.712884Z",
     "shell.execute_reply": "2024-03-21T12:42:26.711676Z"
    },
    "papermill": {
     "duration": 0.054036,
     "end_time": "2024-03-21T12:42:26.715440",
     "exception": false,
     "start_time": "2024-03-21T12:42:26.661404",
     "status": "completed"
    },
    "tags": []
   },
   "outputs": [
    {
     "data": {
      "text/html": [
       "<div>\n",
       "<style scoped>\n",
       "    .dataframe tbody tr th:only-of-type {\n",
       "        vertical-align: middle;\n",
       "    }\n",
       "\n",
       "    .dataframe tbody tr th {\n",
       "        vertical-align: top;\n",
       "    }\n",
       "\n",
       "    .dataframe thead th {\n",
       "        text-align: right;\n",
       "    }\n",
       "</style>\n",
       "<table border=\"1\" class=\"dataframe\">\n",
       "  <thead>\n",
       "    <tr style=\"text-align: right;\">\n",
       "      <th></th>\n",
       "      <th>T1_TeamID</th>\n",
       "      <th>T2_TeamID</th>\n",
       "      <th>Pred</th>\n",
       "    </tr>\n",
       "  </thead>\n",
       "  <tbody>\n",
       "    <tr>\n",
       "      <th>0</th>\n",
       "      <td>1163</td>\n",
       "      <td>1235</td>\n",
       "      <td>0.615906</td>\n",
       "    </tr>\n",
       "    <tr>\n",
       "      <th>1</th>\n",
       "      <td>1163</td>\n",
       "      <td>1228</td>\n",
       "      <td>0.737588</td>\n",
       "    </tr>\n",
       "    <tr>\n",
       "      <th>2</th>\n",
       "      <td>1163</td>\n",
       "      <td>1120</td>\n",
       "      <td>0.589064</td>\n",
       "    </tr>\n",
       "    <tr>\n",
       "      <th>3</th>\n",
       "      <td>1163</td>\n",
       "      <td>1361</td>\n",
       "      <td>0.839507</td>\n",
       "    </tr>\n",
       "    <tr>\n",
       "      <th>4</th>\n",
       "      <td>1163</td>\n",
       "      <td>1140</td>\n",
       "      <td>0.704246</td>\n",
       "    </tr>\n",
       "  </tbody>\n",
       "</table>\n",
       "</div>"
      ],
      "text/plain": [
       "   T1_TeamID  T2_TeamID      Pred\n",
       "0       1163       1235  0.615906\n",
       "1       1163       1228  0.737588\n",
       "2       1163       1120  0.589064\n",
       "3       1163       1361  0.839507\n",
       "4       1163       1140  0.704246"
      ]
     },
     "execution_count": 30,
     "metadata": {},
     "output_type": "execute_result"
    }
   ],
   "source": [
    "preds_m = game_data_m[['T1_TeamID', 'T2_TeamID']].merge(mean_predctions, how='left', left_index=True, right_index=True)\n",
    "preds_m.head()"
   ]
  },
  {
   "cell_type": "markdown",
   "id": "e9efe7f4",
   "metadata": {
    "papermill": {
     "duration": 0.032425,
     "end_time": "2024-03-21T12:42:26.780388",
     "exception": false,
     "start_time": "2024-03-21T12:42:26.747963",
     "status": "completed"
    },
    "tags": []
   },
   "source": [
    "# Data Prep"
   ]
  },
  {
   "cell_type": "code",
   "execution_count": 31,
   "id": "197b933f",
   "metadata": {
    "execution": {
     "iopub.execute_input": "2024-03-21T12:42:26.848905Z",
     "iopub.status.busy": "2024-03-21T12:42:26.848078Z",
     "iopub.status.idle": "2024-03-21T12:42:26.853500Z",
     "shell.execute_reply": "2024-03-21T12:42:26.852535Z"
    },
    "papermill": {
     "duration": 0.042829,
     "end_time": "2024-03-21T12:42:26.855867",
     "exception": false,
     "start_time": "2024-03-21T12:42:26.813038",
     "status": "completed"
    },
    "tags": []
   },
   "outputs": [],
   "source": [
    "gender = 'W'"
   ]
  },
  {
   "cell_type": "code",
   "execution_count": 32,
   "id": "ee181f6f",
   "metadata": {
    "execution": {
     "iopub.execute_input": "2024-03-21T12:42:26.924465Z",
     "iopub.status.busy": "2024-03-21T12:42:26.923271Z",
     "iopub.status.idle": "2024-03-21T12:42:27.312988Z",
     "shell.execute_reply": "2024-03-21T12:42:27.311915Z"
    },
    "papermill": {
     "duration": 0.42694,
     "end_time": "2024-03-21T12:42:27.315866",
     "exception": false,
     "start_time": "2024-03-21T12:42:26.888926",
     "status": "completed"
    },
    "tags": []
   },
   "outputs": [],
   "source": [
    "season = pd.read_csv(f'/kaggle/input/march-machine-learning-mania-2024/{gender}RegularSeasonDetailedResults.csv')\n",
    "tournament = pd.read_csv(f'/kaggle/input/march-machine-learning-mania-2024/{gender}NCAATourneyDetailedResults.csv')\n",
    "\n",
    "all_results = pd.concat([season, tournament]).reset_index(drop=True)"
   ]
  },
  {
   "cell_type": "code",
   "execution_count": 33,
   "id": "1faa3d65",
   "metadata": {
    "execution": {
     "iopub.execute_input": "2024-03-21T12:42:27.383401Z",
     "iopub.status.busy": "2024-03-21T12:42:27.382970Z",
     "iopub.status.idle": "2024-03-21T12:42:27.635268Z",
     "shell.execute_reply": "2024-03-21T12:42:27.634336Z"
    },
    "papermill": {
     "duration": 0.289129,
     "end_time": "2024-03-21T12:42:27.637846",
     "exception": false,
     "start_time": "2024-03-21T12:42:27.348717",
     "status": "completed"
    },
    "tags": []
   },
   "outputs": [],
   "source": [
    "prepped_box_scores = prepare_boxscore_data(all_results)"
   ]
  },
  {
   "cell_type": "code",
   "execution_count": 34,
   "id": "3f52c8f8",
   "metadata": {
    "execution": {
     "iopub.execute_input": "2024-03-21T12:42:27.705099Z",
     "iopub.status.busy": "2024-03-21T12:42:27.704679Z",
     "iopub.status.idle": "2024-03-21T12:43:10.070369Z",
     "shell.execute_reply": "2024-03-21T12:43:10.069433Z"
    },
    "papermill": {
     "duration": 42.402648,
     "end_time": "2024-03-21T12:43:10.073090",
     "exception": false,
     "start_time": "2024-03-21T12:42:27.670442",
     "status": "completed"
    },
    "tags": []
   },
   "outputs": [
    {
     "name": "stdout",
     "output_type": "stream",
     "text": [
      "creating training data from 2010\n",
      "creating training data from 2011\n",
      "creating training data from 2012\n",
      "creating training data from 2013\n",
      "creating training data from 2014\n",
      "creating training data from 2015\n",
      "creating training data from 2016\n",
      "creating training data from 2017\n",
      "creating training data from 2018\n",
      "creating training data from 2019\n",
      "creating training data from 2021\n",
      "creating training data from 2022\n",
      "creating training data from 2023\n",
      "creating training data from 2024\n"
     ]
    }
   ],
   "source": [
    "seasons = [2010, 2011, 2012, 2013, 2014, 2015, 2016, 2017, 2018, 2019, 2021, 2022, 2023, 2024]\n",
    "training_data = create_training_data(prepped_box_scores,seasons, 70)"
   ]
  },
  {
   "cell_type": "code",
   "execution_count": 35,
   "id": "f781d539",
   "metadata": {
    "execution": {
     "iopub.execute_input": "2024-03-21T12:43:10.143247Z",
     "iopub.status.busy": "2024-03-21T12:43:10.142836Z",
     "iopub.status.idle": "2024-03-21T12:43:10.149884Z",
     "shell.execute_reply": "2024-03-21T12:43:10.148863Z"
    },
    "papermill": {
     "duration": 0.044876,
     "end_time": "2024-03-21T12:43:10.152074",
     "exception": false,
     "start_time": "2024-03-21T12:43:10.107198",
     "status": "completed"
    },
    "tags": []
   },
   "outputs": [
    {
     "data": {
      "text/plain": [
       "(76400, 47)"
      ]
     },
     "execution_count": 35,
     "metadata": {},
     "output_type": "execute_result"
    }
   ],
   "source": [
    "training_data.shape"
   ]
  },
  {
   "cell_type": "markdown",
   "id": "f32df63c",
   "metadata": {
    "papermill": {
     "duration": 0.034317,
     "end_time": "2024-03-21T12:43:10.220460",
     "exception": false,
     "start_time": "2024-03-21T12:43:10.186143",
     "status": "completed"
    },
    "tags": []
   },
   "source": [
    "# Modeling"
   ]
  },
  {
   "cell_type": "code",
   "execution_count": 36,
   "id": "6f37f2db",
   "metadata": {
    "execution": {
     "iopub.execute_input": "2024-03-21T12:43:10.291294Z",
     "iopub.status.busy": "2024-03-21T12:43:10.290851Z",
     "iopub.status.idle": "2024-03-21T12:43:10.303664Z",
     "shell.execute_reply": "2024-03-21T12:43:10.302845Z"
    },
    "papermill": {
     "duration": 0.050687,
     "end_time": "2024-03-21T12:43:10.305790",
     "exception": false,
     "start_time": "2024-03-21T12:43:10.255103",
     "status": "completed"
    },
    "tags": []
   },
   "outputs": [
    {
     "data": {
      "text/plain": [
       "count    76400.000000\n",
       "mean         0.000000\n",
       "std         16.315302\n",
       "min        -89.000000\n",
       "25%        -11.000000\n",
       "50%          0.000000\n",
       "75%         11.000000\n",
       "max         89.000000\n",
       "dtype: float64"
      ]
     },
     "execution_count": 36,
     "metadata": {},
     "output_type": "execute_result"
    }
   ],
   "source": [
    "y = training_data['T1_Score'] - training_data['T2_Score']\n",
    "y.describe()"
   ]
  },
  {
   "cell_type": "code",
   "execution_count": 37,
   "id": "b512c013",
   "metadata": {
    "execution": {
     "iopub.execute_input": "2024-03-21T12:43:10.375819Z",
     "iopub.status.busy": "2024-03-21T12:43:10.375458Z",
     "iopub.status.idle": "2024-03-21T12:43:10.383215Z",
     "shell.execute_reply": "2024-03-21T12:43:10.382002Z"
    },
    "papermill": {
     "duration": 0.045595,
     "end_time": "2024-03-21T12:43:10.385529",
     "exception": false,
     "start_time": "2024-03-21T12:43:10.339934",
     "status": "completed"
    },
    "tags": []
   },
   "outputs": [
    {
     "data": {
      "text/plain": [
       "42"
      ]
     },
     "execution_count": 37,
     "metadata": {},
     "output_type": "execute_result"
    }
   ],
   "source": [
    "features = list(training_data.columns[7:])\n",
    "features.append('DayNum')\n",
    "features.append('location')\n",
    "len(features)"
   ]
  },
  {
   "cell_type": "code",
   "execution_count": 38,
   "id": "0004f945",
   "metadata": {
    "execution": {
     "iopub.execute_input": "2024-03-21T12:43:10.457055Z",
     "iopub.status.busy": "2024-03-21T12:43:10.456646Z",
     "iopub.status.idle": "2024-03-21T12:43:10.540263Z",
     "shell.execute_reply": "2024-03-21T12:43:10.539045Z"
    },
    "papermill": {
     "duration": 0.121668,
     "end_time": "2024-03-21T12:43:10.542906",
     "exception": false,
     "start_time": "2024-03-21T12:43:10.421238",
     "status": "completed"
    },
    "tags": []
   },
   "outputs": [],
   "source": [
    "X = training_data[features].values\n",
    "dtrain = xgb.DMatrix(X, label = y)"
   ]
  },
  {
   "cell_type": "code",
   "execution_count": 39,
   "id": "9f8df43d",
   "metadata": {
    "execution": {
     "iopub.execute_input": "2024-03-21T12:43:10.614835Z",
     "iopub.status.busy": "2024-03-21T12:43:10.614438Z",
     "iopub.status.idle": "2024-03-21T12:43:10.620209Z",
     "shell.execute_reply": "2024-03-21T12:43:10.619386Z"
    },
    "papermill": {
     "duration": 0.043681,
     "end_time": "2024-03-21T12:43:10.622246",
     "exception": false,
     "start_time": "2024-03-21T12:43:10.578565",
     "status": "completed"
    },
    "tags": []
   },
   "outputs": [],
   "source": [
    "def cauchyobj(preds, dtrain):\n",
    "    labels = dtrain.get_label()\n",
    "    c = 5000 \n",
    "    x =  preds-labels    \n",
    "    grad = x / (x**2/c**2+1)\n",
    "    hess = -c**2*(x**2-c**2)/(x**2+c**2)**2\n",
    "    return grad, hess"
   ]
  },
  {
   "cell_type": "code",
   "execution_count": 40,
   "id": "7b795397",
   "metadata": {
    "execution": {
     "iopub.execute_input": "2024-03-21T12:43:10.692720Z",
     "iopub.status.busy": "2024-03-21T12:43:10.692028Z",
     "iopub.status.idle": "2024-03-21T12:43:10.698702Z",
     "shell.execute_reply": "2024-03-21T12:43:10.697645Z"
    },
    "papermill": {
     "duration": 0.044446,
     "end_time": "2024-03-21T12:43:10.700963",
     "exception": false,
     "start_time": "2024-03-21T12:43:10.656517",
     "status": "completed"
    },
    "tags": []
   },
   "outputs": [
    {
     "name": "stdout",
     "output_type": "stream",
     "text": [
      "{'eval_metric': 'mae', 'booster': 'gbtree', 'eta': 0.05, 'subsample': 0.35, 'colsample_bytree': 0.7, 'num_parallel_tree': 3, 'min_child_weight': 40, 'gamma': 10, 'max_depth': 3}\n"
     ]
    }
   ],
   "source": [
    "param = {} \n",
    "param['eval_metric'] =  'mae'\n",
    "param['booster'] = 'gbtree'\n",
    "param['eta'] = 0.05 #change to ~0.02 for final run\n",
    "param['subsample'] = 0.35\n",
    "param['colsample_bytree'] = 0.7\n",
    "param['num_parallel_tree'] = 3 #recommend 10\n",
    "param['min_child_weight'] = 40\n",
    "param['gamma'] = 10\n",
    "param['max_depth'] =  3\n",
    "\n",
    "print(param)"
   ]
  },
  {
   "cell_type": "code",
   "execution_count": 41,
   "id": "3298309b",
   "metadata": {
    "execution": {
     "iopub.execute_input": "2024-03-21T12:43:10.771539Z",
     "iopub.status.busy": "2024-03-21T12:43:10.770526Z",
     "iopub.status.idle": "2024-03-21T13:10:15.538622Z",
     "shell.execute_reply": "2024-03-21T13:10:15.537295Z"
    },
    "papermill": {
     "duration": 1624.806566,
     "end_time": "2024-03-21T13:10:15.541670",
     "exception": false,
     "start_time": "2024-03-21T12:43:10.735104",
     "status": "completed"
    },
    "tags": []
   },
   "outputs": [
    {
     "name": "stdout",
     "output_type": "stream",
     "text": [
      "Fold repeater 0\n",
      "[0]\ttrain-mae:13.00816+0.02768\ttest-mae:13.00928+0.11337\n",
      "[50]\ttrain-mae:9.95338+0.01394\ttest-mae:9.99129+0.06206\n",
      "[100]\ttrain-mae:9.59066+0.01350\ttest-mae:9.65020+0.05199\n",
      "[150]\ttrain-mae:9.49973+0.01417\ttest-mae:9.57865+0.05313\n",
      "[200]\ttrain-mae:9.45811+0.01409\ttest-mae:9.55648+0.05475\n",
      "[250]\ttrain-mae:9.42710+0.01474\ttest-mae:9.54517+0.05607\n",
      "[300]\ttrain-mae:9.40080+0.01424\ttest-mae:9.53664+0.05723\n",
      "[350]\ttrain-mae:9.37670+0.01475\ttest-mae:9.53003+0.05670\n",
      "[400]\ttrain-mae:9.35378+0.01473\ttest-mae:9.52404+0.05683\n",
      "[450]\ttrain-mae:9.33195+0.01480\ttest-mae:9.52007+0.05796\n",
      "[500]\ttrain-mae:9.31162+0.01487\ttest-mae:9.51591+0.05873\n",
      "[550]\ttrain-mae:9.29166+0.01522\ttest-mae:9.51159+0.06007\n",
      "[600]\ttrain-mae:9.27222+0.01517\ttest-mae:9.50753+0.05888\n",
      "[650]\ttrain-mae:9.25395+0.01513\ttest-mae:9.50453+0.05935\n",
      "[700]\ttrain-mae:9.23607+0.01502\ttest-mae:9.50173+0.05890\n",
      "[750]\ttrain-mae:9.21846+0.01498\ttest-mae:9.49913+0.05883\n",
      "[800]\ttrain-mae:9.20146+0.01520\ttest-mae:9.49769+0.05931\n",
      "[850]\ttrain-mae:9.18468+0.01544\ttest-mae:9.49579+0.05912\n",
      "[900]\ttrain-mae:9.16803+0.01557\ttest-mae:9.49442+0.05916\n",
      "[950]\ttrain-mae:9.15193+0.01552\ttest-mae:9.49303+0.05949\n",
      "[1000]\ttrain-mae:9.13653+0.01487\ttest-mae:9.49046+0.05928\n",
      "[1050]\ttrain-mae:9.12117+0.01515\ttest-mae:9.48907+0.05923\n",
      "[1100]\ttrain-mae:9.10607+0.01516\ttest-mae:9.48748+0.05968\n",
      "[1150]\ttrain-mae:9.09150+0.01497\ttest-mae:9.48638+0.06014\n",
      "[1200]\ttrain-mae:9.07707+0.01478\ttest-mae:9.48547+0.06065\n",
      "[1250]\ttrain-mae:9.06268+0.01454\ttest-mae:9.48518+0.06105\n",
      "[1300]\ttrain-mae:9.04864+0.01459\ttest-mae:9.48425+0.06109\n",
      "[1350]\ttrain-mae:9.03458+0.01449\ttest-mae:9.48308+0.06125\n",
      "[1373]\ttrain-mae:9.02817+0.01456\ttest-mae:9.48312+0.06112\n",
      "Fold repeater 1\n",
      "[0]\ttrain-mae:13.00800+0.01056\ttest-mae:13.00926+0.04261\n",
      "[50]\ttrain-mae:9.95195+0.01603\ttest-mae:9.99432+0.06089\n",
      "[100]\ttrain-mae:9.59089+0.01642\ttest-mae:9.65192+0.06680\n",
      "[150]\ttrain-mae:9.49940+0.01482\ttest-mae:9.57956+0.06669\n",
      "[200]\ttrain-mae:9.45776+0.01461\ttest-mae:9.55655+0.06554\n",
      "[250]\ttrain-mae:9.42722+0.01426\ttest-mae:9.54612+0.06639\n",
      "[300]\ttrain-mae:9.40106+0.01451\ttest-mae:9.53727+0.06598\n",
      "[350]\ttrain-mae:9.37657+0.01520\ttest-mae:9.53021+0.06656\n",
      "[400]\ttrain-mae:9.35403+0.01485\ttest-mae:9.52473+0.06819\n",
      "[450]\ttrain-mae:9.33254+0.01461\ttest-mae:9.51975+0.06965\n",
      "[500]\ttrain-mae:9.31178+0.01416\ttest-mae:9.51555+0.07069\n",
      "[550]\ttrain-mae:9.29222+0.01456\ttest-mae:9.51193+0.07016\n",
      "[600]\ttrain-mae:9.27272+0.01436\ttest-mae:9.50933+0.07039\n",
      "[650]\ttrain-mae:9.25404+0.01439\ttest-mae:9.50557+0.07015\n",
      "[700]\ttrain-mae:9.23618+0.01426\ttest-mae:9.50291+0.06984\n",
      "[750]\ttrain-mae:9.21893+0.01446\ttest-mae:9.50041+0.07054\n",
      "[800]\ttrain-mae:9.20204+0.01427\ttest-mae:9.49870+0.07020\n",
      "[850]\ttrain-mae:9.18564+0.01441\ttest-mae:9.49740+0.06993\n",
      "[900]\ttrain-mae:9.16931+0.01449\ttest-mae:9.49535+0.07007\n",
      "[950]\ttrain-mae:9.15315+0.01477\ttest-mae:9.49333+0.07047\n",
      "[1000]\ttrain-mae:9.13740+0.01479\ttest-mae:9.49190+0.07100\n",
      "[1050]\ttrain-mae:9.12154+0.01498\ttest-mae:9.48964+0.07151\n",
      "[1100]\ttrain-mae:9.10645+0.01471\ttest-mae:9.48885+0.07212\n",
      "[1150]\ttrain-mae:9.09140+0.01499\ttest-mae:9.48801+0.07137\n",
      "[1200]\ttrain-mae:9.07654+0.01502\ttest-mae:9.48604+0.07117\n",
      "[1250]\ttrain-mae:9.06191+0.01487\ttest-mae:9.48552+0.07195\n",
      "[1261]\ttrain-mae:9.05877+0.01493\ttest-mae:9.48536+0.07213\n",
      "Fold repeater 2\n",
      "[0]\ttrain-mae:13.00784+0.01321\ttest-mae:13.00808+0.05431\n",
      "[50]\ttrain-mae:9.95266+0.01303\ttest-mae:9.98776+0.04237\n",
      "[100]\ttrain-mae:9.59024+0.01310\ttest-mae:9.64667+0.04986\n",
      "[150]\ttrain-mae:9.49994+0.01394\ttest-mae:9.57479+0.05463\n",
      "[200]\ttrain-mae:9.45822+0.01326\ttest-mae:9.55174+0.05649\n",
      "[250]\ttrain-mae:9.42791+0.01325\ttest-mae:9.54003+0.05587\n",
      "[300]\ttrain-mae:9.40164+0.01319\ttest-mae:9.53200+0.05615\n",
      "[350]\ttrain-mae:9.37795+0.01311\ttest-mae:9.52563+0.05618\n",
      "[400]\ttrain-mae:9.35468+0.01261\ttest-mae:9.51961+0.05688\n",
      "[450]\ttrain-mae:9.33346+0.01246\ttest-mae:9.51552+0.05636\n",
      "[500]\ttrain-mae:9.31313+0.01271\ttest-mae:9.51097+0.05675\n",
      "[550]\ttrain-mae:9.29373+0.01253\ttest-mae:9.50695+0.05701\n",
      "[600]\ttrain-mae:9.27453+0.01193\ttest-mae:9.50346+0.05719\n",
      "[650]\ttrain-mae:9.25572+0.01206\ttest-mae:9.50075+0.05668\n",
      "[700]\ttrain-mae:9.23793+0.01183\ttest-mae:9.49729+0.05645\n",
      "[750]\ttrain-mae:9.22008+0.01252\ttest-mae:9.49457+0.05689\n",
      "[800]\ttrain-mae:9.20330+0.01250\ttest-mae:9.49175+0.05678\n",
      "[850]\ttrain-mae:9.18646+0.01259\ttest-mae:9.48936+0.05706\n",
      "[900]\ttrain-mae:9.17031+0.01291\ttest-mae:9.48774+0.05697\n",
      "[950]\ttrain-mae:9.15462+0.01288\ttest-mae:9.48595+0.05683\n",
      "[1000]\ttrain-mae:9.13878+0.01283\ttest-mae:9.48390+0.05726\n",
      "[1050]\ttrain-mae:9.12326+0.01284\ttest-mae:9.48269+0.05694\n",
      "[1100]\ttrain-mae:9.10833+0.01308\ttest-mae:9.48085+0.05634\n",
      "[1150]\ttrain-mae:9.09324+0.01308\ttest-mae:9.47972+0.05617\n",
      "[1200]\ttrain-mae:9.07852+0.01312\ttest-mae:9.47778+0.05612\n",
      "[1250]\ttrain-mae:9.06436+0.01297\ttest-mae:9.47670+0.05681\n",
      "[1300]\ttrain-mae:9.05001+0.01266\ttest-mae:9.47602+0.05654\n",
      "[1350]\ttrain-mae:9.03624+0.01251\ttest-mae:9.47540+0.05544\n",
      "[1400]\ttrain-mae:9.02275+0.01250\ttest-mae:9.47424+0.05581\n",
      "[1450]\ttrain-mae:9.00939+0.01230\ttest-mae:9.47370+0.05581\n",
      "[1454]\ttrain-mae:9.00829+0.01229\ttest-mae:9.47386+0.05588\n"
     ]
    }
   ],
   "source": [
    "xgb_cv = []\n",
    "repeat_cv = 3 # recommend 10\n",
    "\n",
    "for i in range(repeat_cv): \n",
    "    print(f\"Fold repeater {i}\")\n",
    "    xgb_cv.append(\n",
    "        xgb.cv(\n",
    "          params = param,\n",
    "          dtrain = dtrain,\n",
    "          obj = cauchyobj,\n",
    "          num_boost_round = 3000,\n",
    "          folds = KFold(n_splits = 5, shuffle = True, random_state = i),\n",
    "          early_stopping_rounds = 25,\n",
    "          verbose_eval = 50\n",
    "        )\n",
    "    )"
   ]
  },
  {
   "cell_type": "code",
   "execution_count": 42,
   "id": "a3fdac0c",
   "metadata": {
    "execution": {
     "iopub.execute_input": "2024-03-21T13:10:15.701692Z",
     "iopub.status.busy": "2024-03-21T13:10:15.700804Z",
     "iopub.status.idle": "2024-03-21T13:10:15.710525Z",
     "shell.execute_reply": "2024-03-21T13:10:15.709276Z"
    },
    "papermill": {
     "duration": 0.056699,
     "end_time": "2024-03-21T13:10:15.712999",
     "exception": false,
     "start_time": "2024-03-21T13:10:15.656300",
     "status": "completed"
    },
    "tags": []
   },
   "outputs": [
    {
     "data": {
      "text/plain": [
       "([1349, 1237, 1430], [9.483035283899277, 9.48526110908124, 9.473474924203146])"
      ]
     },
     "execution_count": 42,
     "metadata": {},
     "output_type": "execute_result"
    }
   ],
   "source": [
    "iteration_counts = [np.argmin(x['test-mae-mean'].values) for x in xgb_cv]\n",
    "val_mae = [np.min(x['test-mae-mean'].values) for x in xgb_cv]\n",
    "iteration_counts, val_mae\n"
   ]
  },
  {
   "cell_type": "code",
   "execution_count": 43,
   "id": "883e035e",
   "metadata": {
    "execution": {
     "iopub.execute_input": "2024-03-21T13:10:15.800535Z",
     "iopub.status.busy": "2024-03-21T13:10:15.799627Z",
     "iopub.status.idle": "2024-03-21T13:18:15.219031Z",
     "shell.execute_reply": "2024-03-21T13:18:15.217918Z"
    },
    "papermill": {
     "duration": 479.466591,
     "end_time": "2024-03-21T13:18:15.222297",
     "exception": false,
     "start_time": "2024-03-21T13:10:15.755706",
     "status": "completed"
    },
    "tags": []
   },
   "outputs": [
    {
     "name": "stdout",
     "output_type": "stream",
     "text": [
      "Fold repeater 0\n",
      "Fold repeater 1\n",
      "Fold repeater 2\n"
     ]
    }
   ],
   "source": [
    "oof_preds = []\n",
    "for i in range(repeat_cv):\n",
    "    print(f\"Fold repeater {i}\")\n",
    "    preds = y.astype('float64').copy()\n",
    "    kfold = KFold(n_splits = 5, shuffle = True, random_state = i)    \n",
    "    for train_index, val_index in kfold.split(X,y):\n",
    "        dtrain_i = xgb.DMatrix(X[train_index], label = y[train_index])\n",
    "        dval_i = xgb.DMatrix(X[val_index], label = y[val_index])  \n",
    "        model = xgb.train(\n",
    "              params = param,\n",
    "              dtrain = dtrain_i,\n",
    "              num_boost_round = iteration_counts[i],\n",
    "              verbose_eval = 50\n",
    "        )\n",
    "        preds[val_index] = model.predict(dval_i)\n",
    "    oof_preds.append(np.clip(preds,-30,30))"
   ]
  },
  {
   "cell_type": "code",
   "execution_count": 44,
   "id": "4942ed90",
   "metadata": {
    "execution": {
     "iopub.execute_input": "2024-03-21T13:18:15.313484Z",
     "iopub.status.busy": "2024-03-21T13:18:15.312807Z",
     "iopub.status.idle": "2024-03-21T13:18:15.602234Z",
     "shell.execute_reply": "2024-03-21T13:18:15.601019Z"
    },
    "papermill": {
     "duration": 0.336679,
     "end_time": "2024-03-21T13:18:15.604875",
     "exception": false,
     "start_time": "2024-03-21T13:18:15.268196",
     "status": "completed"
    },
    "tags": []
   },
   "outputs": [
    {
     "data": {
      "text/plain": [
       "[<matplotlib.lines.Line2D at 0x7ec693e33d90>]"
      ]
     },
     "execution_count": 44,
     "metadata": {},
     "output_type": "execute_result"
    },
    {
     "data": {
      "image/png": "[encoded data removed]",
      "text/plain": [
       "<Figure size 640x480 with 1 Axes>"
      ]
     },
     "metadata": {},
     "output_type": "display_data"
    }
   ],
   "source": [
    "plot_df = pd.DataFrame({\"pred\":oof_preds[0], \"label\":np.where(y>0,1,0)})\n",
    "plot_df[\"pred_int\"] = plot_df[\"pred\"].astype(int)\n",
    "plot_df = plot_df.groupby('pred_int')['label'].mean().reset_index(name='average_win_pct')\n",
    "\n",
    "plt.figure()\n",
    "plt.plot(plot_df.pred_int,plot_df.average_win_pct)"
   ]
  },
  {
   "cell_type": "code",
   "execution_count": 45,
   "id": "bebb9cfd",
   "metadata": {
    "execution": {
     "iopub.execute_input": "2024-03-21T13:18:15.694404Z",
     "iopub.status.busy": "2024-03-21T13:18:15.693952Z",
     "iopub.status.idle": "2024-03-21T13:18:16.402698Z",
     "shell.execute_reply": "2024-03-21T13:18:16.401352Z"
    },
    "papermill": {
     "duration": 0.756215,
     "end_time": "2024-03-21T13:18:16.405154",
     "exception": false,
     "start_time": "2024-03-21T13:18:15.648939",
     "status": "completed"
    },
    "tags": []
   },
   "outputs": [
    {
     "name": "stdout",
     "output_type": "stream",
     "text": [
      "logloss of cvsplit 0: 0.5149000847090506\n",
      "logloss of cvsplit 1: 0.5151385329646935\n",
      "logloss of cvsplit 2: 0.5150469286648814\n"
     ]
    }
   ],
   "source": [
    "spline_model = []\n",
    "\n",
    "for i in range(repeat_cv):\n",
    "    dat = list(zip(oof_preds[i],np.where(y>0,1,0)))\n",
    "    dat = sorted(dat, key = lambda x: x[0])\n",
    "    datdict = {}\n",
    "    for k in range(len(dat)):\n",
    "        datdict[dat[k][0]]= dat[k][1]\n",
    "        \n",
    "    spline_model.append(UnivariateSpline(list(datdict.keys()), list(datdict.values())))\n",
    "    spline_fit = spline_model[i](oof_preds[i])\n",
    "    \n",
    "    print(f\"logloss of cvsplit {i}: {log_loss(np.where(y>0,1,0),spline_fit)}\") "
   ]
  },
  {
   "cell_type": "code",
   "execution_count": 46,
   "id": "6a0d7f38",
   "metadata": {
    "execution": {
     "iopub.execute_input": "2024-03-21T13:18:16.496557Z",
     "iopub.status.busy": "2024-03-21T13:18:16.496141Z",
     "iopub.status.idle": "2024-03-21T13:18:16.793913Z",
     "shell.execute_reply": "2024-03-21T13:18:16.792711Z"
    },
    "papermill": {
     "duration": 0.34626,
     "end_time": "2024-03-21T13:18:16.796457",
     "exception": false,
     "start_time": "2024-03-21T13:18:16.450197",
     "status": "completed"
    },
    "tags": []
   },
   "outputs": [
    {
     "data": {
      "text/plain": [
       "[<matplotlib.lines.Line2D at 0x7ec693e2c730>]"
      ]
     },
     "execution_count": 46,
     "metadata": {},
     "output_type": "execute_result"
    },
    {
     "data": {
      "image/png": "[encoded data removed]",
      "text/plain": [
       "<Figure size 640x480 with 1 Axes>"
      ]
     },
     "metadata": {},
     "output_type": "display_data"
    }
   ],
   "source": [
    "plot_df = pd.DataFrame({\"pred\":oof_preds[0], \"label\":np.where(y>0,1,0), \"spline\":spline_model[0](oof_preds[0])})\n",
    "plot_df[\"pred_int\"] = (plot_df[\"pred\"]).astype(int)\n",
    "plot_df = plot_df.groupby('pred_int')[['spline','label']].mean().reset_index()\n",
    "\n",
    "plt.figure()\n",
    "plt.plot(plot_df.pred_int,plot_df.spline)\n",
    "plt.plot(plot_df.pred_int,plot_df.label)"
   ]
  },
  {
   "cell_type": "code",
   "execution_count": 47,
   "id": "f1d5e12a",
   "metadata": {
    "execution": {
     "iopub.execute_input": "2024-03-21T13:18:16.887868Z",
     "iopub.status.busy": "2024-03-21T13:18:16.887430Z",
     "iopub.status.idle": "2024-03-21T13:18:16.895477Z",
     "shell.execute_reply": "2024-03-21T13:18:16.894327Z"
    },
    "papermill": {
     "duration": 0.056195,
     "end_time": "2024-03-21T13:18:16.897556",
     "exception": false,
     "start_time": "2024-03-21T13:18:16.841361",
     "status": "completed"
    },
    "tags": []
   },
   "outputs": [
    {
     "name": "stdout",
     "output_type": "stream",
     "text": [
      "-25 [0.02113236]\n",
      "-24 [0.01582795]\n",
      "-23 [0.01352332]\n",
      "-22 [0.01409327]\n",
      "-21 [0.01741262]\n",
      "-20 [0.02335618]\n",
      "-19 [0.03179878]\n",
      "-18 [0.04261523]\n",
      "-17 [0.05568034]\n",
      "-16 [0.07086893]\n"
     ]
    }
   ],
   "source": [
    "for n in range(-25,-15):\n",
    "    print(n,spline_model[2]([n]))"
   ]
  },
  {
   "cell_type": "code",
   "execution_count": 48,
   "id": "7da2eb1e",
   "metadata": {
    "execution": {
     "iopub.execute_input": "2024-03-21T13:18:16.988750Z",
     "iopub.status.busy": "2024-03-21T13:18:16.988104Z",
     "iopub.status.idle": "2024-03-21T13:18:17.689384Z",
     "shell.execute_reply": "2024-03-21T13:18:17.688187Z"
    },
    "papermill": {
     "duration": 0.749879,
     "end_time": "2024-03-21T13:18:17.691934",
     "exception": false,
     "start_time": "2024-03-21T13:18:16.942055",
     "status": "completed"
    },
    "tags": []
   },
   "outputs": [
    {
     "name": "stdout",
     "output_type": "stream",
     "text": [
      "adjusted logloss of cvsplit 0: 0.5147922204194207\n",
      "adjusted logloss of cvsplit 1: 0.5150198208436415\n",
      "adjusted logloss of cvsplit 2: 0.5149413377332809\n"
     ]
    }
   ],
   "source": [
    "spline_model = []\n",
    "\n",
    "for i in range(repeat_cv):\n",
    "    dat = list(zip(oof_preds[i],np.where(y>0,1,0)))\n",
    "    dat = sorted(dat, key = lambda x: x[0])\n",
    "    datdict = {}\n",
    "    for k in range(len(dat)):\n",
    "        datdict[dat[k][0]]= dat[k][1]\n",
    "    spline_model.append(UnivariateSpline(list(datdict.keys()), list(datdict.values())))\n",
    "    spline_fit = spline_model[i](oof_preds[i])\n",
    "    spline_fit = np.clip(spline_fit,0.025,0.975)\n",
    "    \n",
    "    print(f\"adjusted logloss of cvsplit {i}: {log_loss(np.where(y>0,1,0),spline_fit)}\") "
   ]
  },
  {
   "cell_type": "code",
   "execution_count": 49,
   "id": "01673d50",
   "metadata": {
    "execution": {
     "iopub.execute_input": "2024-03-21T13:18:17.784431Z",
     "iopub.status.busy": "2024-03-21T13:18:17.784030Z",
     "iopub.status.idle": "2024-03-21T13:20:20.828980Z",
     "shell.execute_reply": "2024-03-21T13:20:20.827845Z"
    },
    "papermill": {
     "duration": 123.094606,
     "end_time": "2024-03-21T13:20:20.831796",
     "exception": false,
     "start_time": "2024-03-21T13:18:17.737190",
     "status": "completed"
    },
    "tags": []
   },
   "outputs": [
    {
     "name": "stdout",
     "output_type": "stream",
     "text": [
      "Fold repeater 0\n",
      "Fold repeater 1\n",
      "Fold repeater 2\n"
     ]
    }
   ],
   "source": [
    "repeat_cv = 3\n",
    "\n",
    "pred_models = []\n",
    "for i in range(repeat_cv):\n",
    "    print(f\"Fold repeater {i}\")\n",
    "    pred_models.append(\n",
    "        xgb.train(\n",
    "          params = param,\n",
    "          dtrain = dtrain,\n",
    "          num_boost_round = int(iteration_counts[i] * 1.05),\n",
    "          verbose_eval = 50\n",
    "        )\n",
    "    )"
   ]
  },
  {
   "cell_type": "markdown",
   "id": "3364c5b8",
   "metadata": {
    "papermill": {
     "duration": 0.044863,
     "end_time": "2024-03-21T13:20:20.922211",
     "exception": false,
     "start_time": "2024-03-21T13:20:20.877348",
     "status": "completed"
    },
    "tags": []
   },
   "source": [
    "# Make Predictions"
   ]
  },
  {
   "cell_type": "code",
   "execution_count": 50,
   "id": "4a692283",
   "metadata": {
    "execution": {
     "iopub.execute_input": "2024-03-21T13:20:21.014872Z",
     "iopub.status.busy": "2024-03-21T13:20:21.014419Z",
     "iopub.status.idle": "2024-03-21T13:20:21.030699Z",
     "shell.execute_reply": "2024-03-21T13:20:21.029492Z"
    },
    "papermill": {
     "duration": 0.065658,
     "end_time": "2024-03-21T13:20:21.033378",
     "exception": false,
     "start_time": "2024-03-21T13:20:20.967720",
     "status": "completed"
    },
    "tags": []
   },
   "outputs": [],
   "source": [
    "# Z12 3162 needs to be Vanderbilt, TeamID 3435\n",
    "seeds = pd.read_csv('/kaggle/input/march-machine-learning-mania-2024/2024_tourney_seeds.csv')\n",
    "seeds_m = seeds[seeds['Tournament'] == 'M'].copy()\n",
    "seeds_w = seeds[seeds['Tournament'] == 'W'].copy()\n",
    "\n",
    "seeds_w['TeamID'] = seeds_w['TeamID'].replace(3162, 3435)"
   ]
  },
  {
   "cell_type": "code",
   "execution_count": 51,
   "id": "9cc0a81a",
   "metadata": {
    "execution": {
     "iopub.execute_input": "2024-03-21T13:20:21.125975Z",
     "iopub.status.busy": "2024-03-21T13:20:21.125084Z",
     "iopub.status.idle": "2024-03-21T13:20:21.145345Z",
     "shell.execute_reply": "2024-03-21T13:20:21.144037Z"
    },
    "papermill": {
     "duration": 0.069548,
     "end_time": "2024-03-21T13:20:21.147960",
     "exception": false,
     "start_time": "2024-03-21T13:20:21.078412",
     "status": "completed"
    },
    "tags": []
   },
   "outputs": [],
   "source": [
    "# Pull the team data\n",
    "stats_data = prepped_box_scores[prepped_box_scores['Season']==2024].copy()"
   ]
  },
  {
   "cell_type": "code",
   "execution_count": 52,
   "id": "883db3c4",
   "metadata": {
    "execution": {
     "iopub.execute_input": "2024-03-21T13:20:21.241561Z",
     "iopub.status.busy": "2024-03-21T13:20:21.241093Z",
     "iopub.status.idle": "2024-03-21T13:20:21.269425Z",
     "shell.execute_reply": "2024-03-21T13:20:21.267920Z"
    },
    "papermill": {
     "duration": 0.07906,
     "end_time": "2024-03-21T13:20:21.272165",
     "exception": false,
     "start_time": "2024-03-21T13:20:21.193105",
     "status": "completed"
    },
    "tags": []
   },
   "outputs": [
    {
     "name": "stdout",
     "output_type": "stream",
     "text": [
      "2016\n"
     ]
    }
   ],
   "source": [
    "# Create the team matchups\n",
    "unique_teams = seeds_w['TeamID'].unique()\n",
    "team_pairs = list(combinations(unique_teams, 2))\n",
    "\n",
    "game_data_w = pd.DataFrame(team_pairs, columns=['T1_TeamID', 'T2_TeamID'])\n",
    "game_data_w['Season'] = 2024\n",
    "game_data_w['DayNum'] = stats_data['DayNum'].max()\n",
    "game_data_w['location'] = 0\n",
    "\n",
    "game_data_w.head()\n",
    "print(len(game_data_w))"
   ]
  },
  {
   "cell_type": "code",
   "execution_count": 53,
   "id": "feb62179",
   "metadata": {
    "execution": {
     "iopub.execute_input": "2024-03-21T13:20:21.365634Z",
     "iopub.status.busy": "2024-03-21T13:20:21.365243Z",
     "iopub.status.idle": "2024-03-21T13:20:21.385899Z",
     "shell.execute_reply": "2024-03-21T13:20:21.384656Z"
    },
    "papermill": {
     "duration": 0.070605,
     "end_time": "2024-03-21T13:20:21.388475",
     "exception": false,
     "start_time": "2024-03-21T13:20:21.317870",
     "status": "completed"
    },
    "tags": []
   },
   "outputs": [],
   "source": [
    "def create_feature_data(game_data, stats_data):\n",
    "    # Basic group by features\n",
    "    boxscore_cols = ['T1_FGM', 'T1_FGA', 'T1_FGM3', 'T1_FGA3', 'T1_OR', 'T1_Ast', 'T1_TO', 'T1_Stl', 'T1_PF', \n",
    "                     'T2_FGM', 'T2_FGA', 'T2_FGM3', 'T2_FGA3', 'T2_OR', 'T2_Ast', 'T2_TO', 'T2_Stl', 'T2_Blk',  \n",
    "                     'PointDiff']\n",
    "    funcs = ['mean']\n",
    "\n",
    "    gameDayNum = stats_data['DayNum'].max()\n",
    "    \n",
    "    # Create season level means\n",
    "    season_statistics = stats_data.groupby([\"Season\", 'T1_TeamID'])[boxscore_cols].agg(funcs).reset_index()\n",
    "    season_statistics.columns = [''.join(col).strip() for col in season_statistics.columns.values]\n",
    "\n",
    "    season_statistics_T1 = season_statistics.copy()\n",
    "    season_statistics_T2 = season_statistics.copy()\n",
    "\n",
    "    season_statistics_T1.columns = [\"T1_\" + x.replace(\"T1_\",\"\").replace(\"T2_\",\"opponent_\") for x in list(season_statistics_T1.columns)]\n",
    "    season_statistics_T2.columns = [\"T2_\" + x.replace(\"T1_\",\"\").replace(\"T2_\",\"opponent_\") for x in list(season_statistics_T2.columns)]\n",
    "    season_statistics_T1.columns.values[0] = \"Season\"\n",
    "    season_statistics_T2.columns.values[0] = \"Season\"\n",
    "\n",
    "    # Collect win ratios for past 14 days\n",
    "\n",
    "    last14days_stats_T1 = stats_data[stats_data['DayNum'] >= gameDayNum - 14].copy().reset_index(drop=True)\n",
    "    last14days_stats_T1['win'] = np.where(last14days_stats_T1['PointDiff']>0,1,0)\n",
    "    last14days_stats_T1 = last14days_stats_T1.groupby(['Season','T1_TeamID'])['win'].mean().reset_index(name='T1_win_ratio_14d')\n",
    "\n",
    "    last14days_stats_T2 = stats_data[stats_data['DayNum'] >= gameDayNum - 14].copy().reset_index(drop=True)\n",
    "    last14days_stats_T2['win'] = np.where(last14days_stats_T2['PointDiff']<0,1,0)\n",
    "    last14days_stats_T2 = last14days_stats_T2.groupby(['Season','T2_TeamID'])['win'].mean().reset_index(name='T2_win_ratio_14d')\n",
    "\n",
    "    # Skip quality for now\n",
    "\n",
    "    # Merge together\n",
    "\n",
    "    game_data = game_data[['Season', 'DayNum', 'location', 'T1_TeamID', 'T2_TeamID']]\n",
    "\n",
    "    game_data = pd.merge(game_data, season_statistics_T1, on = ['Season', 'T1_TeamID'], how = 'left')\n",
    "    game_data = pd.merge(game_data, season_statistics_T2, on = ['Season', 'T2_TeamID'], how = 'left')\n",
    "\n",
    "    game_data = pd.merge(game_data, last14days_stats_T1, on = ['Season', 'T1_TeamID'], how = 'left')\n",
    "    game_data = pd.merge(game_data, last14days_stats_T2, on = ['Season', 'T2_TeamID'], how = 'left')\n",
    "\n",
    "    return game_data"
   ]
  },
  {
   "cell_type": "code",
   "execution_count": 54,
   "id": "b7b74a58",
   "metadata": {
    "execution": {
     "iopub.execute_input": "2024-03-21T13:20:21.483272Z",
     "iopub.status.busy": "2024-03-21T13:20:21.481656Z",
     "iopub.status.idle": "2024-03-21T13:20:21.531637Z",
     "shell.execute_reply": "2024-03-21T13:20:21.530396Z"
    },
    "papermill": {
     "duration": 0.100734,
     "end_time": "2024-03-21T13:20:21.534681",
     "exception": false,
     "start_time": "2024-03-21T13:20:21.433947",
     "status": "completed"
    },
    "tags": []
   },
   "outputs": [],
   "source": [
    "feature_data = create_feature_data(game_data_w, stats_data)"
   ]
  },
  {
   "cell_type": "code",
   "execution_count": 55,
   "id": "db226106",
   "metadata": {
    "execution": {
     "iopub.execute_input": "2024-03-21T13:20:21.629361Z",
     "iopub.status.busy": "2024-03-21T13:20:21.628893Z",
     "iopub.status.idle": "2024-03-21T13:20:21.638516Z",
     "shell.execute_reply": "2024-03-21T13:20:21.637463Z"
    },
    "papermill": {
     "duration": 0.060229,
     "end_time": "2024-03-21T13:20:21.641391",
     "exception": false,
     "start_time": "2024-03-21T13:20:21.581162",
     "status": "completed"
    },
    "tags": []
   },
   "outputs": [],
   "source": [
    "X = feature_data[features].values\n",
    "dtest = xgb.DMatrix(X)"
   ]
  },
  {
   "cell_type": "code",
   "execution_count": 56,
   "id": "459163a9",
   "metadata": {
    "execution": {
     "iopub.execute_input": "2024-03-21T13:20:21.735520Z",
     "iopub.status.busy": "2024-03-21T13:20:21.735067Z",
     "iopub.status.idle": "2024-03-21T13:20:21.912525Z",
     "shell.execute_reply": "2024-03-21T13:20:21.911441Z"
    },
    "papermill": {
     "duration": 0.2269,
     "end_time": "2024-03-21T13:20:21.915101",
     "exception": false,
     "start_time": "2024-03-21T13:20:21.688201",
     "status": "completed"
    },
    "tags": []
   },
   "outputs": [],
   "source": [
    "preds = []\n",
    "for i in range(repeat_cv):\n",
    "    preds.append(np.clip(spline_model[i](np.clip(pred_models[i].predict(dtest),-23,23)),0.025,0.975))\n",
    "mean_predctions = pd.DataFrame(preds).mean(axis=0)\n",
    "mean_predctions.name = 'Pred'"
   ]
  },
  {
   "cell_type": "code",
   "execution_count": 57,
   "id": "853c9cd4",
   "metadata": {
    "execution": {
     "iopub.execute_input": "2024-03-21T13:20:22.010768Z",
     "iopub.status.busy": "2024-03-21T13:20:22.009988Z",
     "iopub.status.idle": "2024-03-21T13:20:22.023064Z",
     "shell.execute_reply": "2024-03-21T13:20:22.022203Z"
    },
    "papermill": {
     "duration": 0.06375,
     "end_time": "2024-03-21T13:20:22.025304",
     "exception": false,
     "start_time": "2024-03-21T13:20:21.961554",
     "status": "completed"
    },
    "tags": []
   },
   "outputs": [
    {
     "data": {
      "text/html": [
       "<div>\n",
       "<style scoped>\n",
       "    .dataframe tbody tr th:only-of-type {\n",
       "        vertical-align: middle;\n",
       "    }\n",
       "\n",
       "    .dataframe tbody tr th {\n",
       "        vertical-align: top;\n",
       "    }\n",
       "\n",
       "    .dataframe thead th {\n",
       "        text-align: right;\n",
       "    }\n",
       "</style>\n",
       "<table border=\"1\" class=\"dataframe\">\n",
       "  <thead>\n",
       "    <tr style=\"text-align: right;\">\n",
       "      <th></th>\n",
       "      <th>T1_TeamID</th>\n",
       "      <th>T2_TeamID</th>\n",
       "      <th>Pred</th>\n",
       "    </tr>\n",
       "  </thead>\n",
       "  <tbody>\n",
       "    <tr>\n",
       "      <th>0</th>\n",
       "      <td>3376</td>\n",
       "      <td>3323</td>\n",
       "      <td>0.813934</td>\n",
       "    </tr>\n",
       "    <tr>\n",
       "      <th>1</th>\n",
       "      <td>3376</td>\n",
       "      <td>3333</td>\n",
       "      <td>0.875312</td>\n",
       "    </tr>\n",
       "    <tr>\n",
       "      <th>2</th>\n",
       "      <td>3376</td>\n",
       "      <td>3231</td>\n",
       "      <td>0.809538</td>\n",
       "    </tr>\n",
       "    <tr>\n",
       "      <th>3</th>\n",
       "      <td>3376</td>\n",
       "      <td>3328</td>\n",
       "      <td>0.963028</td>\n",
       "    </tr>\n",
       "    <tr>\n",
       "      <th>4</th>\n",
       "      <td>3376</td>\n",
       "      <td>3304</td>\n",
       "      <td>0.970241</td>\n",
       "    </tr>\n",
       "  </tbody>\n",
       "</table>\n",
       "</div>"
      ],
      "text/plain": [
       "   T1_TeamID  T2_TeamID      Pred\n",
       "0       3376       3323  0.813934\n",
       "1       3376       3333  0.875312\n",
       "2       3376       3231  0.809538\n",
       "3       3376       3328  0.963028\n",
       "4       3376       3304  0.970241"
      ]
     },
     "execution_count": 57,
     "metadata": {},
     "output_type": "execute_result"
    }
   ],
   "source": [
    "preds_w = game_data_w[['T1_TeamID', 'T2_TeamID']].merge(mean_predctions, how='left', left_index=True, right_index=True)\n",
    "preds_w.head()"
   ]
  },
  {
   "cell_type": "markdown",
   "id": "61c2245c",
   "metadata": {
    "papermill": {
     "duration": 0.045424,
     "end_time": "2024-03-21T13:20:22.116193",
     "exception": false,
     "start_time": "2024-03-21T13:20:22.070769",
     "status": "completed"
    },
    "tags": []
   },
   "source": [
    "# Combine and Create Brackets"
   ]
  },
  {
   "cell_type": "code",
   "execution_count": 58,
   "id": "59ba74e7",
   "metadata": {
    "execution": {
     "iopub.execute_input": "2024-03-21T13:20:22.209891Z",
     "iopub.status.busy": "2024-03-21T13:20:22.209142Z",
     "iopub.status.idle": "2024-03-21T13:20:22.222619Z",
     "shell.execute_reply": "2024-03-21T13:20:22.221715Z"
    },
    "papermill": {
     "duration": 0.063139,
     "end_time": "2024-03-21T13:20:22.225145",
     "exception": false,
     "start_time": "2024-03-21T13:20:22.162006",
     "status": "completed"
    },
    "tags": []
   },
   "outputs": [],
   "source": [
    "all_preds = pd.concat([preds_m,preds_w]).reset_index(drop=True)\n",
    "all_preds['ID'] = ['2024_' + str(t1) + '_' + str(t2) for t1,t2 in zip(all_preds['T1_TeamID'],all_preds['T2_TeamID'])]\n",
    "all_preds = all_preds[['ID', 'Pred']]"
   ]
  },
  {
   "cell_type": "code",
   "execution_count": 59,
   "id": "db88a1a6",
   "metadata": {
    "execution": {
     "iopub.execute_input": "2024-03-21T13:20:22.322234Z",
     "iopub.status.busy": "2024-03-21T13:20:22.321823Z",
     "iopub.status.idle": "2024-03-21T13:20:22.333301Z",
     "shell.execute_reply": "2024-03-21T13:20:22.331938Z"
    },
    "papermill": {
     "duration": 0.063035,
     "end_time": "2024-03-21T13:20:22.335894",
     "exception": false,
     "start_time": "2024-03-21T13:20:22.272859",
     "status": "completed"
    },
    "tags": []
   },
   "outputs": [
    {
     "data": {
      "text/html": [
       "<div>\n",
       "<style scoped>\n",
       "    .dataframe tbody tr th:only-of-type {\n",
       "        vertical-align: middle;\n",
       "    }\n",
       "\n",
       "    .dataframe tbody tr th {\n",
       "        vertical-align: top;\n",
       "    }\n",
       "\n",
       "    .dataframe thead th {\n",
       "        text-align: right;\n",
       "    }\n",
       "</style>\n",
       "<table border=\"1\" class=\"dataframe\">\n",
       "  <thead>\n",
       "    <tr style=\"text-align: right;\">\n",
       "      <th></th>\n",
       "      <th>ID</th>\n",
       "      <th>Pred</th>\n",
       "    </tr>\n",
       "  </thead>\n",
       "  <tbody>\n",
       "    <tr>\n",
       "      <th>0</th>\n",
       "      <td>2024_1163_1235</td>\n",
       "      <td>0.615906</td>\n",
       "    </tr>\n",
       "    <tr>\n",
       "      <th>1</th>\n",
       "      <td>2024_1163_1228</td>\n",
       "      <td>0.737588</td>\n",
       "    </tr>\n",
       "    <tr>\n",
       "      <th>2</th>\n",
       "      <td>2024_1163_1120</td>\n",
       "      <td>0.589064</td>\n",
       "    </tr>\n",
       "    <tr>\n",
       "      <th>3</th>\n",
       "      <td>2024_1163_1361</td>\n",
       "      <td>0.839507</td>\n",
       "    </tr>\n",
       "    <tr>\n",
       "      <th>4</th>\n",
       "      <td>2024_1163_1140</td>\n",
       "      <td>0.704246</td>\n",
       "    </tr>\n",
       "  </tbody>\n",
       "</table>\n",
       "</div>"
      ],
      "text/plain": [
       "               ID      Pred\n",
       "0  2024_1163_1235  0.615906\n",
       "1  2024_1163_1228  0.737588\n",
       "2  2024_1163_1120  0.589064\n",
       "3  2024_1163_1361  0.839507\n",
       "4  2024_1163_1140  0.704246"
      ]
     },
     "execution_count": 59,
     "metadata": {},
     "output_type": "execute_result"
    }
   ],
   "source": [
    "all_preds.head()"
   ]
  },
  {
   "cell_type": "code",
   "execution_count": 60,
   "id": "ae66763f",
   "metadata": {
    "execution": {
     "iopub.execute_input": "2024-03-21T13:20:22.431863Z",
     "iopub.status.busy": "2024-03-21T13:20:22.431420Z",
     "iopub.status.idle": "2024-03-21T13:20:22.469196Z",
     "shell.execute_reply": "2024-03-21T13:20:22.468206Z"
    },
    "papermill": {
     "duration": 0.08779,
     "end_time": "2024-03-21T13:20:22.471808",
     "exception": false,
     "start_time": "2024-03-21T13:20:22.384018",
     "status": "completed"
    },
    "tags": []
   },
   "outputs": [],
   "source": [
    "# Load and filter data\n",
    "round_slots = pd.read_csv('/kaggle/input/march-machine-learning-mania-2024/MNCAATourneySlots.csv')\n",
    "round_slots = round_slots[round_slots['Season'] == 2023]\n",
    "round_slots = round_slots[round_slots['Slot'].str.contains('R')] # Filter out First Four\n",
    "\n",
    "seeds = pd.read_csv('/kaggle/input/march-machine-learning-mania-2024/2024_tourney_seeds.csv')\n",
    "seeds_m = seeds[seeds['Tournament'] == 'M'].copy()\n",
    "seeds_w = seeds[seeds['Tournament'] == 'W'].copy()\n",
    "\n",
    "seeds_m['TeamID'] = seeds_m['TeamID'].replace(1224, 1447)\n",
    "seeds_m['TeamID'] = seeds_m['TeamID'].replace(1129, 1160)\n",
    "seeds_w['TeamID'] = seeds_w['TeamID'].replace(3162, 3435)\n",
    "\n",
    "\n",
    "all_preds['ID'] = all_preds['ID'].str.split('_')"
   ]
  },
  {
   "cell_type": "code",
   "execution_count": 61,
   "id": "9a176852",
   "metadata": {
    "execution": {
     "iopub.execute_input": "2024-03-21T13:20:22.568752Z",
     "iopub.status.busy": "2024-03-21T13:20:22.567974Z",
     "iopub.status.idle": "2024-03-21T13:20:22.586181Z",
     "shell.execute_reply": "2024-03-21T13:20:22.585182Z"
    },
    "papermill": {
     "duration": 0.070756,
     "end_time": "2024-03-21T13:20:22.588761",
     "exception": false,
     "start_time": "2024-03-21T13:20:22.518005",
     "status": "completed"
    },
    "tags": []
   },
   "outputs": [],
   "source": [
    "def prepare_data(seeds, preds):\n",
    "    # Function preparing the data for the simulation\n",
    "    seed_dict = seeds.set_index('Seed')['TeamID'].to_dict()\n",
    "    inverted_seed_dict = {value: key for key, value in seed_dict.items()}\n",
    "    probas_dict = {}\n",
    "    \n",
    "    for teams, proba in zip(preds['ID'], preds['Pred']):\n",
    "        team1, team2 = teams[1], teams[2]\n",
    "\n",
    "        probas_dict.setdefault(team1, {})[team2] = proba\n",
    "        probas_dict.setdefault(team2, {})[team1] = 1 - proba\n",
    "\n",
    "    return seed_dict, inverted_seed_dict, probas_dict\n",
    "\n",
    "\n",
    "def simulate(round_slots, seeds, inverted_seeds, probas, random_values, sim=True):\n",
    "    '''\n",
    "    Simulates each round of the tournament.\n",
    "\n",
    "    Parameters:\n",
    "    - round_slots: DataFrame containing information on who is playing in each round.\n",
    "    - seeds (dict): Dictionary mapping seed values to team IDs.\n",
    "    - inverted_seeds (dict): Dictionary mapping team IDs to seed values.\n",
    "    - probas (dict): Dictionary containing matchup probabilities.\n",
    "    - random_values (array-like): Array with precomputed random-values.\n",
    "    - sim (boolean): Simulates match if True. Chooses team with higher probability as winner otherwise.\n",
    "\n",
    "    Returns:\n",
    "    - list: List with winning team IDs for each match.\n",
    "    - list: List with corresponding slot names for each match.\n",
    "    '''\n",
    "    winners = []\n",
    "    slots = []\n",
    "\n",
    "    for slot, strong, weak, random_val in zip(round_slots.Slot, round_slots.StrongSeed, round_slots.WeakSeed, random_values):\n",
    "        team1, team2 = seeds[strong], seeds[weak]\n",
    "\n",
    "        # Get the probability of team_1 winning\n",
    "        proba = probas[str(team1)][str(team2)]\n",
    "            \n",
    "        if sim:\n",
    "            # Randomly determine the winner based on the probability\n",
    "            winner = team1 if random_val < proba else team2\n",
    "        else:\n",
    "            # Determine the winner based on the higher probability\n",
    "            winner = [team1, team2][np.argmax([proba, 1-proba])]\n",
    "            \n",
    "        # Append the winner and corresponding slot to the lists\n",
    "        winners.append(winner)\n",
    "        slots.append(slot)\n",
    "\n",
    "        seeds[slot] = winner\n",
    "\n",
    "    # Convert winners to original seeds using the inverted_seeds dictionary\n",
    "    return [inverted_seeds[w] for w in winners], slots\n",
    "\n",
    "\n",
    "def run_simulation(brackets=1, seeds=None, preds=None, round_slots=None, sim=True):\n",
    "    '''\n",
    "    Runs a simulation of bracket tournaments.\n",
    "\n",
    "    Parameters:\n",
    "    - brackets (int): Number of brackets to simulate.\n",
    "    - seeds (pd.DataFrame): DataFrame containing seed information.\n",
    "    - preds (pd.DataFrame): DataFrame containing prediction information for each match-up.\n",
    "    - round_slots (pd.DataFrame): DataFrame containing information about the tournament rounds.\n",
    "    - sim (boolean): Simulates matches if True. Chooses team with higher probability as winner otherwise.\n",
    "\n",
    "    Returns:\n",
    "    - pd.DataFrame: DataFrame with simulation results.\n",
    "    '''\n",
    "    # Get relevant data for the simulation\n",
    "    seed_dict, inverted_seed_dict, probas_dict = prepare_data(seeds, preds)\n",
    "    # Lists to store simulation results\n",
    "    results = []\n",
    "    bracket = []\n",
    "    slots = []\n",
    "    \n",
    "    # Precompute random-values\n",
    "    random_values = np.random.random(size=(brackets, len(round_slots)))\n",
    "\n",
    "    # Iterate through the specified number of brackets\n",
    "    for b in tqdm(range(1, brackets+1)):\n",
    "        # Run single simulation\n",
    "        r, s = simulate(round_slots, seed_dict, inverted_seed_dict, probas_dict, random_values[b-1], sim)\n",
    "        \n",
    "        # Update results\n",
    "        results.extend(r)\n",
    "        bracket.extend([b] * len(r))\n",
    "        slots.extend(s)\n",
    "\n",
    "    # Create final DataFrame\n",
    "    result_df = pd.DataFrame({'Bracket': bracket, 'Slot': slots, 'Team': results})\n",
    "\n",
    "    return result_df"
   ]
  },
  {
   "cell_type": "code",
   "execution_count": 62,
   "id": "bfafa56e",
   "metadata": {
    "execution": {
     "iopub.execute_input": "2024-03-21T13:20:22.684268Z",
     "iopub.status.busy": "2024-03-21T13:20:22.683824Z",
     "iopub.status.idle": "2024-03-21T13:21:08.941891Z",
     "shell.execute_reply": "2024-03-21T13:21:08.940647Z"
    },
    "papermill": {
     "duration": 46.308625,
     "end_time": "2024-03-21T13:21:08.944648",
     "exception": false,
     "start_time": "2024-03-21T13:20:22.636023",
     "status": "completed"
    },
    "tags": []
   },
   "outputs": [
    {
     "name": "stderr",
     "output_type": "stream",
     "text": [
      "100%|██████████| 100000/100000 [00:18<00:00, 5340.50it/s]\n",
      "100%|██████████| 100000/100000 [00:18<00:00, 5391.28it/s]\n"
     ]
    }
   ],
   "source": [
    "n_brackets = 100000\n",
    "result_m=run_simulation(brackets=n_brackets, seeds=seeds_m, preds=all_preds, round_slots=round_slots, sim=True)\n",
    "result_m['Tournament'] = 'M'\n",
    "result_w=run_simulation(brackets=n_brackets, seeds=seeds_w, preds=all_preds, round_slots=round_slots, sim=True)\n",
    "result_w['Tournament'] = 'W'\n",
    "submission = pd.concat([result_m, result_w])\n",
    "submission.reset_index(inplace=True, drop=True)\n",
    "submission.index.names = ['RowId']"
   ]
  },
  {
   "cell_type": "code",
   "execution_count": 63,
   "id": "c9048f54",
   "metadata": {
    "execution": {
     "iopub.execute_input": "2024-03-21T13:21:09.108111Z",
     "iopub.status.busy": "2024-03-21T13:21:09.107682Z",
     "iopub.status.idle": "2024-03-21T13:21:09.125075Z",
     "shell.execute_reply": "2024-03-21T13:21:09.123888Z"
    },
    "papermill": {
     "duration": 0.101787,
     "end_time": "2024-03-21T13:21:09.127601",
     "exception": false,
     "start_time": "2024-03-21T13:21:09.025814",
     "status": "completed"
    },
    "tags": []
   },
   "outputs": [
    {
     "data": {
      "text/html": [
       "<div>\n",
       "<style scoped>\n",
       "    .dataframe tbody tr th:only-of-type {\n",
       "        vertical-align: middle;\n",
       "    }\n",
       "\n",
       "    .dataframe tbody tr th {\n",
       "        vertical-align: top;\n",
       "    }\n",
       "\n",
       "    .dataframe thead th {\n",
       "        text-align: right;\n",
       "    }\n",
       "</style>\n",
       "<table border=\"1\" class=\"dataframe\">\n",
       "  <thead>\n",
       "    <tr style=\"text-align: right;\">\n",
       "      <th></th>\n",
       "      <th>Bracket</th>\n",
       "      <th>Slot</th>\n",
       "      <th>Team</th>\n",
       "      <th>Tournament</th>\n",
       "    </tr>\n",
       "    <tr>\n",
       "      <th>RowId</th>\n",
       "      <th></th>\n",
       "      <th></th>\n",
       "      <th></th>\n",
       "      <th></th>\n",
       "    </tr>\n",
       "  </thead>\n",
       "  <tbody>\n",
       "    <tr>\n",
       "      <th>0</th>\n",
       "      <td>1</td>\n",
       "      <td>R1W1</td>\n",
       "      <td>W01</td>\n",
       "      <td>M</td>\n",
       "    </tr>\n",
       "    <tr>\n",
       "      <th>1</th>\n",
       "      <td>1</td>\n",
       "      <td>R1W2</td>\n",
       "      <td>W02</td>\n",
       "      <td>M</td>\n",
       "    </tr>\n",
       "    <tr>\n",
       "      <th>2</th>\n",
       "      <td>1</td>\n",
       "      <td>R1W3</td>\n",
       "      <td>W03</td>\n",
       "      <td>M</td>\n",
       "    </tr>\n",
       "    <tr>\n",
       "      <th>3</th>\n",
       "      <td>1</td>\n",
       "      <td>R1W4</td>\n",
       "      <td>W04</td>\n",
       "      <td>M</td>\n",
       "    </tr>\n",
       "    <tr>\n",
       "      <th>4</th>\n",
       "      <td>1</td>\n",
       "      <td>R1W5</td>\n",
       "      <td>W05</td>\n",
       "      <td>M</td>\n",
       "    </tr>\n",
       "    <tr>\n",
       "      <th>...</th>\n",
       "      <td>...</td>\n",
       "      <td>...</td>\n",
       "      <td>...</td>\n",
       "      <td>...</td>\n",
       "    </tr>\n",
       "    <tr>\n",
       "      <th>12599995</th>\n",
       "      <td>100000</td>\n",
       "      <td>R4Y1</td>\n",
       "      <td>Y10</td>\n",
       "      <td>W</td>\n",
       "    </tr>\n",
       "    <tr>\n",
       "      <th>12599996</th>\n",
       "      <td>100000</td>\n",
       "      <td>R4Z1</td>\n",
       "      <td>Z03</td>\n",
       "      <td>W</td>\n",
       "    </tr>\n",
       "    <tr>\n",
       "      <th>12599997</th>\n",
       "      <td>100000</td>\n",
       "      <td>R5WX</td>\n",
       "      <td>W01</td>\n",
       "      <td>W</td>\n",
       "    </tr>\n",
       "    <tr>\n",
       "      <th>12599998</th>\n",
       "      <td>100000</td>\n",
       "      <td>R5YZ</td>\n",
       "      <td>Z03</td>\n",
       "      <td>W</td>\n",
       "    </tr>\n",
       "    <tr>\n",
       "      <th>12599999</th>\n",
       "      <td>100000</td>\n",
       "      <td>R6CH</td>\n",
       "      <td>Z03</td>\n",
       "      <td>W</td>\n",
       "    </tr>\n",
       "  </tbody>\n",
       "</table>\n",
       "<p>12600000 rows × 4 columns</p>\n",
       "</div>"
      ],
      "text/plain": [
       "          Bracket  Slot Team Tournament\n",
       "RowId                                  \n",
       "0               1  R1W1  W01          M\n",
       "1               1  R1W2  W02          M\n",
       "2               1  R1W3  W03          M\n",
       "3               1  R1W4  W04          M\n",
       "4               1  R1W5  W05          M\n",
       "...           ...   ...  ...        ...\n",
       "12599995   100000  R4Y1  Y10          W\n",
       "12599996   100000  R4Z1  Z03          W\n",
       "12599997   100000  R5WX  W01          W\n",
       "12599998   100000  R5YZ  Z03          W\n",
       "12599999   100000  R6CH  Z03          W\n",
       "\n",
       "[12600000 rows x 4 columns]"
      ]
     },
     "execution_count": 63,
     "metadata": {},
     "output_type": "execute_result"
    }
   ],
   "source": [
    "submission"
   ]
  },
  {
   "cell_type": "code",
   "execution_count": 64,
   "id": "d6487c10",
   "metadata": {
    "execution": {
     "iopub.execute_input": "2024-03-21T13:21:09.291782Z",
     "iopub.status.busy": "2024-03-21T13:21:09.290742Z",
     "iopub.status.idle": "2024-03-21T13:21:45.257094Z",
     "shell.execute_reply": "2024-03-21T13:21:45.255825Z"
    },
    "papermill": {
     "duration": 36.133753,
     "end_time": "2024-03-21T13:21:45.341010",
     "exception": false,
     "start_time": "2024-03-21T13:21:09.207257",
     "status": "completed"
    },
    "tags": []
   },
   "outputs": [
    {
     "data": {
      "text/html": [
       "<div>\n",
       "<style scoped>\n",
       "    .dataframe tbody tr th:only-of-type {\n",
       "        vertical-align: middle;\n",
       "    }\n",
       "\n",
       "    .dataframe tbody tr th {\n",
       "        vertical-align: top;\n",
       "    }\n",
       "\n",
       "    .dataframe thead th {\n",
       "        text-align: right;\n",
       "    }\n",
       "</style>\n",
       "<table border=\"1\" class=\"dataframe\">\n",
       "  <thead>\n",
       "    <tr style=\"text-align: right;\">\n",
       "      <th></th>\n",
       "      <th>Bracket</th>\n",
       "      <th>Slot</th>\n",
       "      <th>Team</th>\n",
       "      <th>Tournament</th>\n",
       "    </tr>\n",
       "    <tr>\n",
       "      <th>RowId</th>\n",
       "      <th></th>\n",
       "      <th></th>\n",
       "      <th></th>\n",
       "      <th></th>\n",
       "    </tr>\n",
       "  </thead>\n",
       "  <tbody>\n",
       "    <tr>\n",
       "      <th>0</th>\n",
       "      <td>1</td>\n",
       "      <td>R1W1</td>\n",
       "      <td>W01</td>\n",
       "      <td>M</td>\n",
       "    </tr>\n",
       "    <tr>\n",
       "      <th>1</th>\n",
       "      <td>1</td>\n",
       "      <td>R1W2</td>\n",
       "      <td>W02</td>\n",
       "      <td>M</td>\n",
       "    </tr>\n",
       "    <tr>\n",
       "      <th>2</th>\n",
       "      <td>1</td>\n",
       "      <td>R1W3</td>\n",
       "      <td>W03</td>\n",
       "      <td>M</td>\n",
       "    </tr>\n",
       "    <tr>\n",
       "      <th>3</th>\n",
       "      <td>1</td>\n",
       "      <td>R1W4</td>\n",
       "      <td>W04</td>\n",
       "      <td>M</td>\n",
       "    </tr>\n",
       "    <tr>\n",
       "      <th>4</th>\n",
       "      <td>1</td>\n",
       "      <td>R1W5</td>\n",
       "      <td>W05</td>\n",
       "      <td>M</td>\n",
       "    </tr>\n",
       "    <tr>\n",
       "      <th>...</th>\n",
       "      <td>...</td>\n",
       "      <td>...</td>\n",
       "      <td>...</td>\n",
       "      <td>...</td>\n",
       "    </tr>\n",
       "    <tr>\n",
       "      <th>12599995</th>\n",
       "      <td>100000</td>\n",
       "      <td>R4Y1</td>\n",
       "      <td>Y10</td>\n",
       "      <td>W</td>\n",
       "    </tr>\n",
       "    <tr>\n",
       "      <th>12599996</th>\n",
       "      <td>100000</td>\n",
       "      <td>R4Z1</td>\n",
       "      <td>Z03</td>\n",
       "      <td>W</td>\n",
       "    </tr>\n",
       "    <tr>\n",
       "      <th>12599997</th>\n",
       "      <td>100000</td>\n",
       "      <td>R5WX</td>\n",
       "      <td>W01</td>\n",
       "      <td>W</td>\n",
       "    </tr>\n",
       "    <tr>\n",
       "      <th>12599998</th>\n",
       "      <td>100000</td>\n",
       "      <td>R5YZ</td>\n",
       "      <td>Z03</td>\n",
       "      <td>W</td>\n",
       "    </tr>\n",
       "    <tr>\n",
       "      <th>12599999</th>\n",
       "      <td>100000</td>\n",
       "      <td>R6CH</td>\n",
       "      <td>Z03</td>\n",
       "      <td>W</td>\n",
       "    </tr>\n",
       "  </tbody>\n",
       "</table>\n",
       "<p>12600000 rows × 4 columns</p>\n",
       "</div>"
      ],
      "text/plain": [
       "          Bracket  Slot Team Tournament\n",
       "RowId                                  \n",
       "0               1  R1W1  W01          M\n",
       "1               1  R1W2  W02          M\n",
       "2               1  R1W3  W03          M\n",
       "3               1  R1W4  W04          M\n",
       "4               1  R1W5  W05          M\n",
       "...           ...   ...  ...        ...\n",
       "12599995   100000  R4Y1  Y10          W\n",
       "12599996   100000  R4Z1  Z03          W\n",
       "12599997   100000  R5WX  W01          W\n",
       "12599998   100000  R5YZ  Z03          W\n",
       "12599999   100000  R6CH  Z03          W\n",
       "\n",
       "[12600000 rows x 4 columns]"
      ]
     },
     "execution_count": 64,
     "metadata": {},
     "output_type": "execute_result"
    }
   ],
   "source": [
    "submission.to_csv('submission.csv')\n",
    "submission"
   ]
  }
 ],
 "metadata": {
  "kaggle": {
   "accelerator": "none",
   "dataSources": [
    {
     "databundleVersionId": 7985011,
     "sourceId": 70068,
     "sourceType": "competition"
    }
   ],
   "dockerImageVersionId": 30664,
   "isGpuEnabled": false,
   "isInternetEnabled": false,
   "language": "python",
   "sourceType": "notebook"
  },
  "kernelspec": {
   "display_name": "Python 3",
   "language": "python",
   "name": "python3"
  },
  "language_info": {
   "codemirror_mode": {
    "name": "ipython",
    "version": 3
   },
   "file_extension": ".py",
   "mimetype": "text/x-python",
   "name": "python",
   "nbconvert_exporter": "python",
   "pygments_lexer": "ipython3",
   "version": "3.10.13"
  },
  "papermill": {
   "default_parameters": {},
   "duration": 4620.350462,
   "end_time": "2024-03-21T13:21:46.460243",
   "environment_variables": {},
   "exception": null,
   "input_path": "__notebook__.ipynb",
   "output_path": "__notebook__.ipynb",
   "parameters": {},
   "start_time": "2024-03-21T12:04:46.109781",
   "version": "2.5.0"
  }
 },
 "nbformat": 4,
 "nbformat_minor": 5
}
